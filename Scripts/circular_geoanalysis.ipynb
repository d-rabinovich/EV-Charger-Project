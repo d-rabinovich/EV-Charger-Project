{
  "nbformat": 4,
  "nbformat_minor": 0,
  "metadata": {
    "colab": {
      "name": "Circular Geoanalysis.ipynb",
      "provenance": [],
      "collapsed_sections": [
        "DlgZWRmP6loy",
        "_B91yF5g7Fyg",
        "NR67V49Vest7"
      ],
      "toc_visible": true
    },
    "kernelspec": {
      "name": "python3",
      "display_name": "Python 3"
    },
    "widgets": {
      "application/vnd.jupyter.widget-state+json": {
        "9fe895b35cf94b17ac348d6cff109bd5": {
          "model_module": "@jupyter-widgets/controls",
          "model_name": "HBoxModel",
          "state": {
            "_view_name": "HBoxView",
            "_dom_classes": [],
            "_model_name": "HBoxModel",
            "_view_module": "@jupyter-widgets/controls",
            "_model_module_version": "1.5.0",
            "_view_count": null,
            "_view_module_version": "1.5.0",
            "box_style": "",
            "layout": "IPY_MODEL_ced3abcb57b7448faac7aa1274c866c7",
            "_model_module": "@jupyter-widgets/controls",
            "children": [
              "IPY_MODEL_3d847b1088914b23bccfc9cce4f040d7",
              "IPY_MODEL_8c5ed92ca5dd4f8f8770e32919cdda66"
            ]
          }
        },
        "ced3abcb57b7448faac7aa1274c866c7": {
          "model_module": "@jupyter-widgets/base",
          "model_name": "LayoutModel",
          "state": {
            "_view_name": "LayoutView",
            "grid_template_rows": null,
            "right": null,
            "justify_content": null,
            "_view_module": "@jupyter-widgets/base",
            "overflow": null,
            "_model_module_version": "1.2.0",
            "_view_count": null,
            "flex_flow": null,
            "width": null,
            "min_width": null,
            "border": null,
            "align_items": null,
            "bottom": null,
            "_model_module": "@jupyter-widgets/base",
            "top": null,
            "grid_column": null,
            "overflow_y": null,
            "overflow_x": null,
            "grid_auto_flow": null,
            "grid_area": null,
            "grid_template_columns": null,
            "flex": null,
            "_model_name": "LayoutModel",
            "justify_items": null,
            "grid_row": null,
            "max_height": null,
            "align_content": null,
            "visibility": null,
            "align_self": null,
            "height": null,
            "min_height": null,
            "padding": null,
            "grid_auto_rows": null,
            "grid_gap": null,
            "max_width": null,
            "order": null,
            "_view_module_version": "1.2.0",
            "grid_template_areas": null,
            "object_position": null,
            "object_fit": null,
            "grid_auto_columns": null,
            "margin": null,
            "display": null,
            "left": null
          }
        },
        "3d847b1088914b23bccfc9cce4f040d7": {
          "model_module": "@jupyter-widgets/controls",
          "model_name": "FloatProgressModel",
          "state": {
            "_view_name": "ProgressView",
            "style": "IPY_MODEL_bf1dcf5df10d445683e762906954a9a4",
            "_dom_classes": [],
            "description": "100%",
            "_model_name": "FloatProgressModel",
            "bar_style": "success",
            "max": 177,
            "_view_module": "@jupyter-widgets/controls",
            "_model_module_version": "1.5.0",
            "value": 177,
            "_view_count": null,
            "_view_module_version": "1.5.0",
            "orientation": "horizontal",
            "min": 0,
            "description_tooltip": null,
            "_model_module": "@jupyter-widgets/controls",
            "layout": "IPY_MODEL_e191744d112242bdb6d9f42f224c1ebe"
          }
        },
        "8c5ed92ca5dd4f8f8770e32919cdda66": {
          "model_module": "@jupyter-widgets/controls",
          "model_name": "HTMLModel",
          "state": {
            "_view_name": "HTMLView",
            "style": "IPY_MODEL_d94964675fc5467bb7f4d0f9078c1050",
            "_dom_classes": [],
            "description": "",
            "_model_name": "HTMLModel",
            "placeholder": "​",
            "_view_module": "@jupyter-widgets/controls",
            "_model_module_version": "1.5.0",
            "value": " 177/177 [00:00&lt;00:00, 1324.53it/s]",
            "_view_count": null,
            "_view_module_version": "1.5.0",
            "description_tooltip": null,
            "_model_module": "@jupyter-widgets/controls",
            "layout": "IPY_MODEL_88c232c557604113a6c41e7b514a89ab"
          }
        },
        "bf1dcf5df10d445683e762906954a9a4": {
          "model_module": "@jupyter-widgets/controls",
          "model_name": "ProgressStyleModel",
          "state": {
            "_view_name": "StyleView",
            "_model_name": "ProgressStyleModel",
            "description_width": "initial",
            "_view_module": "@jupyter-widgets/base",
            "_model_module_version": "1.5.0",
            "_view_count": null,
            "_view_module_version": "1.2.0",
            "bar_color": null,
            "_model_module": "@jupyter-widgets/controls"
          }
        },
        "e191744d112242bdb6d9f42f224c1ebe": {
          "model_module": "@jupyter-widgets/base",
          "model_name": "LayoutModel",
          "state": {
            "_view_name": "LayoutView",
            "grid_template_rows": null,
            "right": null,
            "justify_content": null,
            "_view_module": "@jupyter-widgets/base",
            "overflow": null,
            "_model_module_version": "1.2.0",
            "_view_count": null,
            "flex_flow": null,
            "width": null,
            "min_width": null,
            "border": null,
            "align_items": null,
            "bottom": null,
            "_model_module": "@jupyter-widgets/base",
            "top": null,
            "grid_column": null,
            "overflow_y": null,
            "overflow_x": null,
            "grid_auto_flow": null,
            "grid_area": null,
            "grid_template_columns": null,
            "flex": null,
            "_model_name": "LayoutModel",
            "justify_items": null,
            "grid_row": null,
            "max_height": null,
            "align_content": null,
            "visibility": null,
            "align_self": null,
            "height": null,
            "min_height": null,
            "padding": null,
            "grid_auto_rows": null,
            "grid_gap": null,
            "max_width": null,
            "order": null,
            "_view_module_version": "1.2.0",
            "grid_template_areas": null,
            "object_position": null,
            "object_fit": null,
            "grid_auto_columns": null,
            "margin": null,
            "display": null,
            "left": null
          }
        },
        "d94964675fc5467bb7f4d0f9078c1050": {
          "model_module": "@jupyter-widgets/controls",
          "model_name": "DescriptionStyleModel",
          "state": {
            "_view_name": "StyleView",
            "_model_name": "DescriptionStyleModel",
            "description_width": "",
            "_view_module": "@jupyter-widgets/base",
            "_model_module_version": "1.5.0",
            "_view_count": null,
            "_view_module_version": "1.2.0",
            "_model_module": "@jupyter-widgets/controls"
          }
        },
        "88c232c557604113a6c41e7b514a89ab": {
          "model_module": "@jupyter-widgets/base",
          "model_name": "LayoutModel",
          "state": {
            "_view_name": "LayoutView",
            "grid_template_rows": null,
            "right": null,
            "justify_content": null,
            "_view_module": "@jupyter-widgets/base",
            "overflow": null,
            "_model_module_version": "1.2.0",
            "_view_count": null,
            "flex_flow": null,
            "width": null,
            "min_width": null,
            "border": null,
            "align_items": null,
            "bottom": null,
            "_model_module": "@jupyter-widgets/base",
            "top": null,
            "grid_column": null,
            "overflow_y": null,
            "overflow_x": null,
            "grid_auto_flow": null,
            "grid_area": null,
            "grid_template_columns": null,
            "flex": null,
            "_model_name": "LayoutModel",
            "justify_items": null,
            "grid_row": null,
            "max_height": null,
            "align_content": null,
            "visibility": null,
            "align_self": null,
            "height": null,
            "min_height": null,
            "padding": null,
            "grid_auto_rows": null,
            "grid_gap": null,
            "max_width": null,
            "order": null,
            "_view_module_version": "1.2.0",
            "grid_template_areas": null,
            "object_position": null,
            "object_fit": null,
            "grid_auto_columns": null,
            "margin": null,
            "display": null,
            "left": null
          }
        },
        "3384928cab1f411b8dddf8dc1f68e0b0": {
          "model_module": "@jupyter-widgets/controls",
          "model_name": "HBoxModel",
          "state": {
            "_view_name": "HBoxView",
            "_dom_classes": [],
            "_model_name": "HBoxModel",
            "_view_module": "@jupyter-widgets/controls",
            "_model_module_version": "1.5.0",
            "_view_count": null,
            "_view_module_version": "1.5.0",
            "box_style": "",
            "layout": "IPY_MODEL_89e2241cbbe548b7a8c789e2130d8464",
            "_model_module": "@jupyter-widgets/controls",
            "children": [
              "IPY_MODEL_4a56dea14e81479f885a8ee55a28ed30",
              "IPY_MODEL_bcf4ce7a4b3b472ba52b0e825a790133"
            ]
          }
        },
        "89e2241cbbe548b7a8c789e2130d8464": {
          "model_module": "@jupyter-widgets/base",
          "model_name": "LayoutModel",
          "state": {
            "_view_name": "LayoutView",
            "grid_template_rows": null,
            "right": null,
            "justify_content": null,
            "_view_module": "@jupyter-widgets/base",
            "overflow": null,
            "_model_module_version": "1.2.0",
            "_view_count": null,
            "flex_flow": null,
            "width": null,
            "min_width": null,
            "border": null,
            "align_items": null,
            "bottom": null,
            "_model_module": "@jupyter-widgets/base",
            "top": null,
            "grid_column": null,
            "overflow_y": null,
            "overflow_x": null,
            "grid_auto_flow": null,
            "grid_area": null,
            "grid_template_columns": null,
            "flex": null,
            "_model_name": "LayoutModel",
            "justify_items": null,
            "grid_row": null,
            "max_height": null,
            "align_content": null,
            "visibility": null,
            "align_self": null,
            "height": null,
            "min_height": null,
            "padding": null,
            "grid_auto_rows": null,
            "grid_gap": null,
            "max_width": null,
            "order": null,
            "_view_module_version": "1.2.0",
            "grid_template_areas": null,
            "object_position": null,
            "object_fit": null,
            "grid_auto_columns": null,
            "margin": null,
            "display": null,
            "left": null
          }
        },
        "4a56dea14e81479f885a8ee55a28ed30": {
          "model_module": "@jupyter-widgets/controls",
          "model_name": "FloatProgressModel",
          "state": {
            "_view_name": "ProgressView",
            "style": "IPY_MODEL_4d9a193ba75948708202243dc346f832",
            "_dom_classes": [],
            "description": "100%",
            "_model_name": "FloatProgressModel",
            "bar_style": "success",
            "max": 177,
            "_view_module": "@jupyter-widgets/controls",
            "_model_module_version": "1.5.0",
            "value": 177,
            "_view_count": null,
            "_view_module_version": "1.5.0",
            "orientation": "horizontal",
            "min": 0,
            "description_tooltip": null,
            "_model_module": "@jupyter-widgets/controls",
            "layout": "IPY_MODEL_55bfefb7778641fd911293bbd8e67bd2"
          }
        },
        "bcf4ce7a4b3b472ba52b0e825a790133": {
          "model_module": "@jupyter-widgets/controls",
          "model_name": "HTMLModel",
          "state": {
            "_view_name": "HTMLView",
            "style": "IPY_MODEL_d34e9662fdae4cabbf0e4799c881f412",
            "_dom_classes": [],
            "description": "",
            "_model_name": "HTMLModel",
            "placeholder": "​",
            "_view_module": "@jupyter-widgets/controls",
            "_model_module_version": "1.5.0",
            "value": " 177/177 [00:23&lt;00:00,  7.47it/s]",
            "_view_count": null,
            "_view_module_version": "1.5.0",
            "description_tooltip": null,
            "_model_module": "@jupyter-widgets/controls",
            "layout": "IPY_MODEL_46aaece9567d4317be3803a96450e8e8"
          }
        },
        "4d9a193ba75948708202243dc346f832": {
          "model_module": "@jupyter-widgets/controls",
          "model_name": "ProgressStyleModel",
          "state": {
            "_view_name": "StyleView",
            "_model_name": "ProgressStyleModel",
            "description_width": "initial",
            "_view_module": "@jupyter-widgets/base",
            "_model_module_version": "1.5.0",
            "_view_count": null,
            "_view_module_version": "1.2.0",
            "bar_color": null,
            "_model_module": "@jupyter-widgets/controls"
          }
        },
        "55bfefb7778641fd911293bbd8e67bd2": {
          "model_module": "@jupyter-widgets/base",
          "model_name": "LayoutModel",
          "state": {
            "_view_name": "LayoutView",
            "grid_template_rows": null,
            "right": null,
            "justify_content": null,
            "_view_module": "@jupyter-widgets/base",
            "overflow": null,
            "_model_module_version": "1.2.0",
            "_view_count": null,
            "flex_flow": null,
            "width": null,
            "min_width": null,
            "border": null,
            "align_items": null,
            "bottom": null,
            "_model_module": "@jupyter-widgets/base",
            "top": null,
            "grid_column": null,
            "overflow_y": null,
            "overflow_x": null,
            "grid_auto_flow": null,
            "grid_area": null,
            "grid_template_columns": null,
            "flex": null,
            "_model_name": "LayoutModel",
            "justify_items": null,
            "grid_row": null,
            "max_height": null,
            "align_content": null,
            "visibility": null,
            "align_self": null,
            "height": null,
            "min_height": null,
            "padding": null,
            "grid_auto_rows": null,
            "grid_gap": null,
            "max_width": null,
            "order": null,
            "_view_module_version": "1.2.0",
            "grid_template_areas": null,
            "object_position": null,
            "object_fit": null,
            "grid_auto_columns": null,
            "margin": null,
            "display": null,
            "left": null
          }
        },
        "d34e9662fdae4cabbf0e4799c881f412": {
          "model_module": "@jupyter-widgets/controls",
          "model_name": "DescriptionStyleModel",
          "state": {
            "_view_name": "StyleView",
            "_model_name": "DescriptionStyleModel",
            "description_width": "",
            "_view_module": "@jupyter-widgets/base",
            "_model_module_version": "1.5.0",
            "_view_count": null,
            "_view_module_version": "1.2.0",
            "_model_module": "@jupyter-widgets/controls"
          }
        },
        "46aaece9567d4317be3803a96450e8e8": {
          "model_module": "@jupyter-widgets/base",
          "model_name": "LayoutModel",
          "state": {
            "_view_name": "LayoutView",
            "grid_template_rows": null,
            "right": null,
            "justify_content": null,
            "_view_module": "@jupyter-widgets/base",
            "overflow": null,
            "_model_module_version": "1.2.0",
            "_view_count": null,
            "flex_flow": null,
            "width": null,
            "min_width": null,
            "border": null,
            "align_items": null,
            "bottom": null,
            "_model_module": "@jupyter-widgets/base",
            "top": null,
            "grid_column": null,
            "overflow_y": null,
            "overflow_x": null,
            "grid_auto_flow": null,
            "grid_area": null,
            "grid_template_columns": null,
            "flex": null,
            "_model_name": "LayoutModel",
            "justify_items": null,
            "grid_row": null,
            "max_height": null,
            "align_content": null,
            "visibility": null,
            "align_self": null,
            "height": null,
            "min_height": null,
            "padding": null,
            "grid_auto_rows": null,
            "grid_gap": null,
            "max_width": null,
            "order": null,
            "_view_module_version": "1.2.0",
            "grid_template_areas": null,
            "object_position": null,
            "object_fit": null,
            "grid_auto_columns": null,
            "margin": null,
            "display": null,
            "left": null
          }
        },
        "62d6e9c8508a48178234082c9467ca83": {
          "model_module": "@jupyter-widgets/controls",
          "model_name": "HBoxModel",
          "state": {
            "_view_name": "HBoxView",
            "_dom_classes": [],
            "_model_name": "HBoxModel",
            "_view_module": "@jupyter-widgets/controls",
            "_model_module_version": "1.5.0",
            "_view_count": null,
            "_view_module_version": "1.5.0",
            "box_style": "",
            "layout": "IPY_MODEL_dff94049197f4a47b4f6dd7e54ce0af1",
            "_model_module": "@jupyter-widgets/controls",
            "children": [
              "IPY_MODEL_e679e7338d744185b5c01f9bf53f05d6",
              "IPY_MODEL_74c6fd3717b849c99cdb911b3227aa14"
            ]
          }
        },
        "dff94049197f4a47b4f6dd7e54ce0af1": {
          "model_module": "@jupyter-widgets/base",
          "model_name": "LayoutModel",
          "state": {
            "_view_name": "LayoutView",
            "grid_template_rows": null,
            "right": null,
            "justify_content": null,
            "_view_module": "@jupyter-widgets/base",
            "overflow": null,
            "_model_module_version": "1.2.0",
            "_view_count": null,
            "flex_flow": null,
            "width": null,
            "min_width": null,
            "border": null,
            "align_items": null,
            "bottom": null,
            "_model_module": "@jupyter-widgets/base",
            "top": null,
            "grid_column": null,
            "overflow_y": null,
            "overflow_x": null,
            "grid_auto_flow": null,
            "grid_area": null,
            "grid_template_columns": null,
            "flex": null,
            "_model_name": "LayoutModel",
            "justify_items": null,
            "grid_row": null,
            "max_height": null,
            "align_content": null,
            "visibility": null,
            "align_self": null,
            "height": null,
            "min_height": null,
            "padding": null,
            "grid_auto_rows": null,
            "grid_gap": null,
            "max_width": null,
            "order": null,
            "_view_module_version": "1.2.0",
            "grid_template_areas": null,
            "object_position": null,
            "object_fit": null,
            "grid_auto_columns": null,
            "margin": null,
            "display": null,
            "left": null
          }
        },
        "e679e7338d744185b5c01f9bf53f05d6": {
          "model_module": "@jupyter-widgets/controls",
          "model_name": "FloatProgressModel",
          "state": {
            "_view_name": "ProgressView",
            "style": "IPY_MODEL_62823b9460cf4c8b8390dbea637adc04",
            "_dom_classes": [],
            "description": "100%",
            "_model_name": "FloatProgressModel",
            "bar_style": "success",
            "max": 177,
            "_view_module": "@jupyter-widgets/controls",
            "_model_module_version": "1.5.0",
            "value": 177,
            "_view_count": null,
            "_view_module_version": "1.5.0",
            "orientation": "horizontal",
            "min": 0,
            "description_tooltip": null,
            "_model_module": "@jupyter-widgets/controls",
            "layout": "IPY_MODEL_5e3f08084c534fc2898b1d4df6d3adbc"
          }
        },
        "74c6fd3717b849c99cdb911b3227aa14": {
          "model_module": "@jupyter-widgets/controls",
          "model_name": "HTMLModel",
          "state": {
            "_view_name": "HTMLView",
            "style": "IPY_MODEL_1cb8d018b1c9405596b5fede64dbe3ee",
            "_dom_classes": [],
            "description": "",
            "_model_name": "HTMLModel",
            "placeholder": "​",
            "_view_module": "@jupyter-widgets/controls",
            "_model_module_version": "1.5.0",
            "value": " 177/177 [01:11&lt;00:00,  2.48it/s]",
            "_view_count": null,
            "_view_module_version": "1.5.0",
            "description_tooltip": null,
            "_model_module": "@jupyter-widgets/controls",
            "layout": "IPY_MODEL_713b21345b8b4e42b5e7bb09a12c705f"
          }
        },
        "62823b9460cf4c8b8390dbea637adc04": {
          "model_module": "@jupyter-widgets/controls",
          "model_name": "ProgressStyleModel",
          "state": {
            "_view_name": "StyleView",
            "_model_name": "ProgressStyleModel",
            "description_width": "initial",
            "_view_module": "@jupyter-widgets/base",
            "_model_module_version": "1.5.0",
            "_view_count": null,
            "_view_module_version": "1.2.0",
            "bar_color": null,
            "_model_module": "@jupyter-widgets/controls"
          }
        },
        "5e3f08084c534fc2898b1d4df6d3adbc": {
          "model_module": "@jupyter-widgets/base",
          "model_name": "LayoutModel",
          "state": {
            "_view_name": "LayoutView",
            "grid_template_rows": null,
            "right": null,
            "justify_content": null,
            "_view_module": "@jupyter-widgets/base",
            "overflow": null,
            "_model_module_version": "1.2.0",
            "_view_count": null,
            "flex_flow": null,
            "width": null,
            "min_width": null,
            "border": null,
            "align_items": null,
            "bottom": null,
            "_model_module": "@jupyter-widgets/base",
            "top": null,
            "grid_column": null,
            "overflow_y": null,
            "overflow_x": null,
            "grid_auto_flow": null,
            "grid_area": null,
            "grid_template_columns": null,
            "flex": null,
            "_model_name": "LayoutModel",
            "justify_items": null,
            "grid_row": null,
            "max_height": null,
            "align_content": null,
            "visibility": null,
            "align_self": null,
            "height": null,
            "min_height": null,
            "padding": null,
            "grid_auto_rows": null,
            "grid_gap": null,
            "max_width": null,
            "order": null,
            "_view_module_version": "1.2.0",
            "grid_template_areas": null,
            "object_position": null,
            "object_fit": null,
            "grid_auto_columns": null,
            "margin": null,
            "display": null,
            "left": null
          }
        },
        "1cb8d018b1c9405596b5fede64dbe3ee": {
          "model_module": "@jupyter-widgets/controls",
          "model_name": "DescriptionStyleModel",
          "state": {
            "_view_name": "StyleView",
            "_model_name": "DescriptionStyleModel",
            "description_width": "",
            "_view_module": "@jupyter-widgets/base",
            "_model_module_version": "1.5.0",
            "_view_count": null,
            "_view_module_version": "1.2.0",
            "_model_module": "@jupyter-widgets/controls"
          }
        },
        "713b21345b8b4e42b5e7bb09a12c705f": {
          "model_module": "@jupyter-widgets/base",
          "model_name": "LayoutModel",
          "state": {
            "_view_name": "LayoutView",
            "grid_template_rows": null,
            "right": null,
            "justify_content": null,
            "_view_module": "@jupyter-widgets/base",
            "overflow": null,
            "_model_module_version": "1.2.0",
            "_view_count": null,
            "flex_flow": null,
            "width": null,
            "min_width": null,
            "border": null,
            "align_items": null,
            "bottom": null,
            "_model_module": "@jupyter-widgets/base",
            "top": null,
            "grid_column": null,
            "overflow_y": null,
            "overflow_x": null,
            "grid_auto_flow": null,
            "grid_area": null,
            "grid_template_columns": null,
            "flex": null,
            "_model_name": "LayoutModel",
            "justify_items": null,
            "grid_row": null,
            "max_height": null,
            "align_content": null,
            "visibility": null,
            "align_self": null,
            "height": null,
            "min_height": null,
            "padding": null,
            "grid_auto_rows": null,
            "grid_gap": null,
            "max_width": null,
            "order": null,
            "_view_module_version": "1.2.0",
            "grid_template_areas": null,
            "object_position": null,
            "object_fit": null,
            "grid_auto_columns": null,
            "margin": null,
            "display": null,
            "left": null
          }
        },
        "859e581dd93d4ebea9046dc9a467c54a": {
          "model_module": "@jupyter-widgets/controls",
          "model_name": "HBoxModel",
          "state": {
            "_view_name": "HBoxView",
            "_dom_classes": [],
            "_model_name": "HBoxModel",
            "_view_module": "@jupyter-widgets/controls",
            "_model_module_version": "1.5.0",
            "_view_count": null,
            "_view_module_version": "1.5.0",
            "box_style": "",
            "layout": "IPY_MODEL_2ea5b4b92039478caafbdc1af0636746",
            "_model_module": "@jupyter-widgets/controls",
            "children": [
              "IPY_MODEL_16d54fa606944c6498526014f914a9a5",
              "IPY_MODEL_5208ba634608472ba6807196615d50a0"
            ]
          }
        },
        "2ea5b4b92039478caafbdc1af0636746": {
          "model_module": "@jupyter-widgets/base",
          "model_name": "LayoutModel",
          "state": {
            "_view_name": "LayoutView",
            "grid_template_rows": null,
            "right": null,
            "justify_content": null,
            "_view_module": "@jupyter-widgets/base",
            "overflow": null,
            "_model_module_version": "1.2.0",
            "_view_count": null,
            "flex_flow": null,
            "width": null,
            "min_width": null,
            "border": null,
            "align_items": null,
            "bottom": null,
            "_model_module": "@jupyter-widgets/base",
            "top": null,
            "grid_column": null,
            "overflow_y": null,
            "overflow_x": null,
            "grid_auto_flow": null,
            "grid_area": null,
            "grid_template_columns": null,
            "flex": null,
            "_model_name": "LayoutModel",
            "justify_items": null,
            "grid_row": null,
            "max_height": null,
            "align_content": null,
            "visibility": null,
            "align_self": null,
            "height": null,
            "min_height": null,
            "padding": null,
            "grid_auto_rows": null,
            "grid_gap": null,
            "max_width": null,
            "order": null,
            "_view_module_version": "1.2.0",
            "grid_template_areas": null,
            "object_position": null,
            "object_fit": null,
            "grid_auto_columns": null,
            "margin": null,
            "display": null,
            "left": null
          }
        },
        "16d54fa606944c6498526014f914a9a5": {
          "model_module": "@jupyter-widgets/controls",
          "model_name": "FloatProgressModel",
          "state": {
            "_view_name": "ProgressView",
            "style": "IPY_MODEL_17169647fa9443f38e1dc2491c44cd1d",
            "_dom_classes": [],
            "description": "100%",
            "_model_name": "FloatProgressModel",
            "bar_style": "success",
            "max": 177,
            "_view_module": "@jupyter-widgets/controls",
            "_model_module_version": "1.5.0",
            "value": 177,
            "_view_count": null,
            "_view_module_version": "1.5.0",
            "orientation": "horizontal",
            "min": 0,
            "description_tooltip": null,
            "_model_module": "@jupyter-widgets/controls",
            "layout": "IPY_MODEL_ca289869d43b4939a67f9668c5872845"
          }
        },
        "5208ba634608472ba6807196615d50a0": {
          "model_module": "@jupyter-widgets/controls",
          "model_name": "HTMLModel",
          "state": {
            "_view_name": "HTMLView",
            "style": "IPY_MODEL_665fd139541543ada759016f08b1d261",
            "_dom_classes": [],
            "description": "",
            "_model_name": "HTMLModel",
            "placeholder": "​",
            "_view_module": "@jupyter-widgets/controls",
            "_model_module_version": "1.5.0",
            "value": " 177/177 [00:04&lt;00:00, 43.55it/s]",
            "_view_count": null,
            "_view_module_version": "1.5.0",
            "description_tooltip": null,
            "_model_module": "@jupyter-widgets/controls",
            "layout": "IPY_MODEL_602175ab06fd4652a28b3202a0ddcff5"
          }
        },
        "17169647fa9443f38e1dc2491c44cd1d": {
          "model_module": "@jupyter-widgets/controls",
          "model_name": "ProgressStyleModel",
          "state": {
            "_view_name": "StyleView",
            "_model_name": "ProgressStyleModel",
            "description_width": "initial",
            "_view_module": "@jupyter-widgets/base",
            "_model_module_version": "1.5.0",
            "_view_count": null,
            "_view_module_version": "1.2.0",
            "bar_color": null,
            "_model_module": "@jupyter-widgets/controls"
          }
        },
        "ca289869d43b4939a67f9668c5872845": {
          "model_module": "@jupyter-widgets/base",
          "model_name": "LayoutModel",
          "state": {
            "_view_name": "LayoutView",
            "grid_template_rows": null,
            "right": null,
            "justify_content": null,
            "_view_module": "@jupyter-widgets/base",
            "overflow": null,
            "_model_module_version": "1.2.0",
            "_view_count": null,
            "flex_flow": null,
            "width": null,
            "min_width": null,
            "border": null,
            "align_items": null,
            "bottom": null,
            "_model_module": "@jupyter-widgets/base",
            "top": null,
            "grid_column": null,
            "overflow_y": null,
            "overflow_x": null,
            "grid_auto_flow": null,
            "grid_area": null,
            "grid_template_columns": null,
            "flex": null,
            "_model_name": "LayoutModel",
            "justify_items": null,
            "grid_row": null,
            "max_height": null,
            "align_content": null,
            "visibility": null,
            "align_self": null,
            "height": null,
            "min_height": null,
            "padding": null,
            "grid_auto_rows": null,
            "grid_gap": null,
            "max_width": null,
            "order": null,
            "_view_module_version": "1.2.0",
            "grid_template_areas": null,
            "object_position": null,
            "object_fit": null,
            "grid_auto_columns": null,
            "margin": null,
            "display": null,
            "left": null
          }
        },
        "665fd139541543ada759016f08b1d261": {
          "model_module": "@jupyter-widgets/controls",
          "model_name": "DescriptionStyleModel",
          "state": {
            "_view_name": "StyleView",
            "_model_name": "DescriptionStyleModel",
            "description_width": "",
            "_view_module": "@jupyter-widgets/base",
            "_model_module_version": "1.5.0",
            "_view_count": null,
            "_view_module_version": "1.2.0",
            "_model_module": "@jupyter-widgets/controls"
          }
        },
        "602175ab06fd4652a28b3202a0ddcff5": {
          "model_module": "@jupyter-widgets/base",
          "model_name": "LayoutModel",
          "state": {
            "_view_name": "LayoutView",
            "grid_template_rows": null,
            "right": null,
            "justify_content": null,
            "_view_module": "@jupyter-widgets/base",
            "overflow": null,
            "_model_module_version": "1.2.0",
            "_view_count": null,
            "flex_flow": null,
            "width": null,
            "min_width": null,
            "border": null,
            "align_items": null,
            "bottom": null,
            "_model_module": "@jupyter-widgets/base",
            "top": null,
            "grid_column": null,
            "overflow_y": null,
            "overflow_x": null,
            "grid_auto_flow": null,
            "grid_area": null,
            "grid_template_columns": null,
            "flex": null,
            "_model_name": "LayoutModel",
            "justify_items": null,
            "grid_row": null,
            "max_height": null,
            "align_content": null,
            "visibility": null,
            "align_self": null,
            "height": null,
            "min_height": null,
            "padding": null,
            "grid_auto_rows": null,
            "grid_gap": null,
            "max_width": null,
            "order": null,
            "_view_module_version": "1.2.0",
            "grid_template_areas": null,
            "object_position": null,
            "object_fit": null,
            "grid_auto_columns": null,
            "margin": null,
            "display": null,
            "left": null
          }
        },
        "9eafc68e700144f482547a4bc6d73060": {
          "model_module": "@jupyter-widgets/controls",
          "model_name": "HBoxModel",
          "state": {
            "_view_name": "HBoxView",
            "_dom_classes": [],
            "_model_name": "HBoxModel",
            "_view_module": "@jupyter-widgets/controls",
            "_model_module_version": "1.5.0",
            "_view_count": null,
            "_view_module_version": "1.5.0",
            "box_style": "",
            "layout": "IPY_MODEL_0f86f65bea9e4504b379e651b5542f9d",
            "_model_module": "@jupyter-widgets/controls",
            "children": [
              "IPY_MODEL_6433fe2568e64a2eae263546b97eaf8d",
              "IPY_MODEL_d6cc79014d4f40b6a7f8f01b58a13827"
            ]
          }
        },
        "0f86f65bea9e4504b379e651b5542f9d": {
          "model_module": "@jupyter-widgets/base",
          "model_name": "LayoutModel",
          "state": {
            "_view_name": "LayoutView",
            "grid_template_rows": null,
            "right": null,
            "justify_content": null,
            "_view_module": "@jupyter-widgets/base",
            "overflow": null,
            "_model_module_version": "1.2.0",
            "_view_count": null,
            "flex_flow": null,
            "width": null,
            "min_width": null,
            "border": null,
            "align_items": null,
            "bottom": null,
            "_model_module": "@jupyter-widgets/base",
            "top": null,
            "grid_column": null,
            "overflow_y": null,
            "overflow_x": null,
            "grid_auto_flow": null,
            "grid_area": null,
            "grid_template_columns": null,
            "flex": null,
            "_model_name": "LayoutModel",
            "justify_items": null,
            "grid_row": null,
            "max_height": null,
            "align_content": null,
            "visibility": null,
            "align_self": null,
            "height": null,
            "min_height": null,
            "padding": null,
            "grid_auto_rows": null,
            "grid_gap": null,
            "max_width": null,
            "order": null,
            "_view_module_version": "1.2.0",
            "grid_template_areas": null,
            "object_position": null,
            "object_fit": null,
            "grid_auto_columns": null,
            "margin": null,
            "display": null,
            "left": null
          }
        },
        "6433fe2568e64a2eae263546b97eaf8d": {
          "model_module": "@jupyter-widgets/controls",
          "model_name": "FloatProgressModel",
          "state": {
            "_view_name": "ProgressView",
            "style": "IPY_MODEL_3be9b7d88f06421fb3967a19f4f1921e",
            "_dom_classes": [],
            "description": "100%",
            "_model_name": "FloatProgressModel",
            "bar_style": "success",
            "max": 177,
            "_view_module": "@jupyter-widgets/controls",
            "_model_module_version": "1.5.0",
            "value": 177,
            "_view_count": null,
            "_view_module_version": "1.5.0",
            "orientation": "horizontal",
            "min": 0,
            "description_tooltip": null,
            "_model_module": "@jupyter-widgets/controls",
            "layout": "IPY_MODEL_1d2396d5ebdf43a1af9191648b17da93"
          }
        },
        "d6cc79014d4f40b6a7f8f01b58a13827": {
          "model_module": "@jupyter-widgets/controls",
          "model_name": "HTMLModel",
          "state": {
            "_view_name": "HTMLView",
            "style": "IPY_MODEL_e32a585dff6f4155991f0efedff5df81",
            "_dom_classes": [],
            "description": "",
            "_model_name": "HTMLModel",
            "placeholder": "​",
            "_view_module": "@jupyter-widgets/controls",
            "_model_module_version": "1.5.0",
            "value": " 177/177 [00:00&lt;00:00, 316.91it/s]",
            "_view_count": null,
            "_view_module_version": "1.5.0",
            "description_tooltip": null,
            "_model_module": "@jupyter-widgets/controls",
            "layout": "IPY_MODEL_a5c3d654e215420391ce3e5941449258"
          }
        },
        "3be9b7d88f06421fb3967a19f4f1921e": {
          "model_module": "@jupyter-widgets/controls",
          "model_name": "ProgressStyleModel",
          "state": {
            "_view_name": "StyleView",
            "_model_name": "ProgressStyleModel",
            "description_width": "initial",
            "_view_module": "@jupyter-widgets/base",
            "_model_module_version": "1.5.0",
            "_view_count": null,
            "_view_module_version": "1.2.0",
            "bar_color": null,
            "_model_module": "@jupyter-widgets/controls"
          }
        },
        "1d2396d5ebdf43a1af9191648b17da93": {
          "model_module": "@jupyter-widgets/base",
          "model_name": "LayoutModel",
          "state": {
            "_view_name": "LayoutView",
            "grid_template_rows": null,
            "right": null,
            "justify_content": null,
            "_view_module": "@jupyter-widgets/base",
            "overflow": null,
            "_model_module_version": "1.2.0",
            "_view_count": null,
            "flex_flow": null,
            "width": null,
            "min_width": null,
            "border": null,
            "align_items": null,
            "bottom": null,
            "_model_module": "@jupyter-widgets/base",
            "top": null,
            "grid_column": null,
            "overflow_y": null,
            "overflow_x": null,
            "grid_auto_flow": null,
            "grid_area": null,
            "grid_template_columns": null,
            "flex": null,
            "_model_name": "LayoutModel",
            "justify_items": null,
            "grid_row": null,
            "max_height": null,
            "align_content": null,
            "visibility": null,
            "align_self": null,
            "height": null,
            "min_height": null,
            "padding": null,
            "grid_auto_rows": null,
            "grid_gap": null,
            "max_width": null,
            "order": null,
            "_view_module_version": "1.2.0",
            "grid_template_areas": null,
            "object_position": null,
            "object_fit": null,
            "grid_auto_columns": null,
            "margin": null,
            "display": null,
            "left": null
          }
        },
        "e32a585dff6f4155991f0efedff5df81": {
          "model_module": "@jupyter-widgets/controls",
          "model_name": "DescriptionStyleModel",
          "state": {
            "_view_name": "StyleView",
            "_model_name": "DescriptionStyleModel",
            "description_width": "",
            "_view_module": "@jupyter-widgets/base",
            "_model_module_version": "1.5.0",
            "_view_count": null,
            "_view_module_version": "1.2.0",
            "_model_module": "@jupyter-widgets/controls"
          }
        },
        "a5c3d654e215420391ce3e5941449258": {
          "model_module": "@jupyter-widgets/base",
          "model_name": "LayoutModel",
          "state": {
            "_view_name": "LayoutView",
            "grid_template_rows": null,
            "right": null,
            "justify_content": null,
            "_view_module": "@jupyter-widgets/base",
            "overflow": null,
            "_model_module_version": "1.2.0",
            "_view_count": null,
            "flex_flow": null,
            "width": null,
            "min_width": null,
            "border": null,
            "align_items": null,
            "bottom": null,
            "_model_module": "@jupyter-widgets/base",
            "top": null,
            "grid_column": null,
            "overflow_y": null,
            "overflow_x": null,
            "grid_auto_flow": null,
            "grid_area": null,
            "grid_template_columns": null,
            "flex": null,
            "_model_name": "LayoutModel",
            "justify_items": null,
            "grid_row": null,
            "max_height": null,
            "align_content": null,
            "visibility": null,
            "align_self": null,
            "height": null,
            "min_height": null,
            "padding": null,
            "grid_auto_rows": null,
            "grid_gap": null,
            "max_width": null,
            "order": null,
            "_view_module_version": "1.2.0",
            "grid_template_areas": null,
            "object_position": null,
            "object_fit": null,
            "grid_auto_columns": null,
            "margin": null,
            "display": null,
            "left": null
          }
        }
      }
    }
  },
  "cells": [
    {
      "cell_type": "markdown",
      "metadata": {
        "id": "NR67V49Vest7"
      },
      "source": [
        "# **Adding Data Based Solely on Charger Addresses (Deprecated)**\n",
        "### Dan Rabinovich"
      ]
    },
    {
      "cell_type": "code",
      "metadata": {
        "id": "028uQlpnoAm8"
      },
      "source": [
        "from tqdm.notebook import tqdm\n",
        "import pandas as pd\n",
        "import numpy as np"
      ],
      "execution_count": null,
      "outputs": []
    },
    {
      "cell_type": "markdown",
      "metadata": {
        "id": "Qdfs8jk3Aym2"
      },
      "source": [
        "1. Read in addresses, census data, EV cars by zipcode\n",
        "2. Sort census data by tract, EV cars by zipcode\n",
        "3. Map correctly"
      ]
    },
    {
      "cell_type": "code",
      "metadata": {
        "id": "oT9bUNidwT3P"
      },
      "source": [
        "# Import DataFrames\n",
        "stations_url = 'https://github.com/d-rabinovich/EV-Charger-Project/blob/main/addresses.csv?raw=true'\n",
        "census_url = 'https://github.com/d-rabinovich/EV-Charger-Project/blob/main/aggregated_census_data.csv?raw=true'\n",
        "ev_cars_url = 'https://data.ca.gov/dataset/15179472-adeb-4df6-920a-20640d02b08c/resource/d304108a-06c1-462f-a144-981dd0109900/download/vehicle-fuel-type-count-by-zip-code.csv'\n",
        "\n",
        "df_stations = pd.read_csv(stations_url, encoding = \"ISO-8859-1\")\n",
        "df_census = pd.read_csv(census_url, encoding = \"ISO-8859-1\")\n",
        "df_cars_raw = pd.read_csv(ev_cars_url, low_memory=False)\n",
        "\n",
        "ev_types = ['Battery Electric', 'Plug-in Hybrid']\n",
        "df_cars_almost = df_cars_raw[df_cars_raw.Fuel.isin(ev_types)]\n",
        "df_cars = df_cars_almost.groupby('Zip Code')['Vehicles'].sum().drop(labels=['OOS', 'Other']).reset_index(name='Vehicles')"
      ],
      "execution_count": null,
      "outputs": []
    },
    {
      "cell_type": "code",
      "metadata": {
        "id": "2AB8KDfnx9VJ",
        "colab": {
          "base_uri": "https://localhost:8080/"
        },
        "outputId": "1c543b75-0f73-417c-8f51-c287bdf3f17b"
      },
      "source": [
        "print(df_stations.loc[1,:])\n",
        "print(df_cars.loc[1,:])\n"
      ],
      "execution_count": null,
      "outputs": [
        {
          "output_type": "stream",
          "text": [
            "Unnamed: 0                                  1\n",
            "Station                             AUI-10263\n",
            "Address       1231 S Hill St, Los Angeles, CA\n",
            "lat                                   34.0385\n",
            "lon                                  -118.262\n",
            "zipcode                            90015-3018\n",
            "Geo_FIPS                           6037207900\n",
            "Name: 1, dtype: object\n",
            "Zip Code    90001\n",
            "Vehicles       56\n",
            "Name: 1, dtype: object\n"
          ],
          "name": "stdout"
        }
      ]
    },
    {
      "cell_type": "code",
      "metadata": {
        "id": "UzL5ado0lV-E",
        "colab": {
          "base_uri": "https://localhost:8080/",
          "height": 101,
          "referenced_widgets": [
            "9fe895b35cf94b17ac348d6cff109bd5",
            "ced3abcb57b7448faac7aa1274c866c7",
            "3d847b1088914b23bccfc9cce4f040d7",
            "8c5ed92ca5dd4f8f8770e32919cdda66",
            "bf1dcf5df10d445683e762906954a9a4",
            "e191744d112242bdb6d9f42f224c1ebe",
            "d94964675fc5467bb7f4d0f9078c1050",
            "88c232c557604113a6c41e7b514a89ab"
          ]
        },
        "outputId": "b78dc55d-39a6-453c-9965-b531cecb5601"
      },
      "source": [
        "FIPS_List = np.array(df_census['Geo_FIPS'])\n",
        "zip_List = np.array(df_cars['Zip Code'])\n",
        "concentrated_disadvantage, commute_time = ([], [])\n",
        "median_household_income, cars_per_home, ev_cars = ([], [], [])\n",
        "total_population, pop_below_18, pop_between_18_34, pop_between_34_65, pop_over_65 = ([], [], [], [], [])\n",
        "for ind, row in tqdm(df_stations.iterrows(), total=df_stations.shape[0]):\n",
        "  f_result = np.where(FIPS_List == row['Geo_FIPS']) \n",
        "  f_idx = f_result[0][0]\n",
        "  concentrated_disadvantage.append(df_census['concentrated_disadvantage'][f_idx])\n",
        "  commute_time.append(df_census['commute_time'][f_idx])\n",
        "  cars_per_home.append(df_census['cars_per_home'][f_idx])\n",
        "  median_household_income.append(df_census['median_household_income'][f_idx])\n",
        "  total_population.append(df_census['total_population'][f_idx])\n",
        "  pop_below_18.append(df_census['pop_below_18'][f_idx])\n",
        "  pop_between_18_34.append(df_census['pop_between_18_34'][f_idx])\n",
        "  pop_between_34_65.append(df_census['pop_between_34_65'][f_idx])\n",
        "  pop_over_65.append(df_census['pop_over_65'][f_idx])\n",
        "\n",
        "  z_result = np.where(zip_List == row['zipcode'].split(\"-\")[0])\n",
        "  try:\n",
        "    z_idx = z_result[0][0]\n",
        "    ev_cars.append(df_cars['Vehicles'][z_idx])\n",
        "  except:\n",
        "    ev_cars.append(0)\n",
        "\n",
        "df_stations['concentrated_disadvantage'] = concentrated_disadvantage\n",
        "df_stations['commute_time'] = commute_time\n",
        "df_stations['cars_per_home'] = cars_per_home\n",
        "df_stations['median_household_income'] = median_household_income\n",
        "df_stations['ev_car_zip_count'] = ev_cars \n",
        "\n",
        "df_stations['total_population'] = total_population\n",
        "df_stations['pop_below_18'] = pop_below_18\n",
        "df_stations['pop_between_18_34'] = pop_between_18_34\n",
        "df_stations['pop_between_34_65'] = pop_between_34_65\n",
        "df_stations['pop_over_65'] = pop_over_65\n",
        "\n",
        "df_stations.drop(columns='Unnamed: 0', inplace=True)"
      ],
      "execution_count": null,
      "outputs": [
        {
          "output_type": "display_data",
          "data": {
            "application/vnd.jupyter.widget-view+json": {
              "model_id": "9fe895b35cf94b17ac348d6cff109bd5",
              "version_minor": 0,
              "version_major": 2
            },
            "text/plain": [
              "HBox(children=(FloatProgress(value=0.0, max=177.0), HTML(value='')))"
            ]
          },
          "metadata": {
            "tags": []
          }
        },
        {
          "output_type": "stream",
          "text": [
            "\n",
            "56708.0\n",
            "0.14936149341820282\n"
          ],
          "name": "stdout"
        }
      ]
    },
    {
      "cell_type": "code",
      "metadata": {
        "id": "vuLXP8XWmmRN",
        "colab": {
          "base_uri": "https://localhost:8080/"
        },
        "outputId": "7316d31d-e169-4a62-b658-4efbbbdc4e2d"
      },
      "source": [
        "print(df_stations)\n",
        "print(list(df_stations))\n",
        "print(df_stations.loc[1,:])"
      ],
      "execution_count": null,
      "outputs": [
        {
          "output_type": "stream",
          "text": [
            "       Station  ... pop_over_65\n",
            "0    AUI-10372  ...         959\n",
            "1    AUI-10263  ...         335\n",
            "2    AUI-10254  ...          80\n",
            "3    AUI-10265  ...         506\n",
            "4    AUI-10218  ...         952\n",
            "..         ...  ...         ...\n",
            "172  AUI-10358  ...         588\n",
            "173  AUI-10361  ...         256\n",
            "174  AUI-10362  ...         570\n",
            "175  AUI-10359  ...         519\n",
            "176  AUI-10261  ...         799\n",
            "\n",
            "[177 rows x 16 columns]\n",
            "['Station', 'Address', 'lat', 'lon', 'zipcode', 'Geo_FIPS', 'concentrated_disadvantage', 'commute_time', 'cars_per_home', 'median_household_income', 'ev_car_zip_count', 'total_population', 'pop_below_18', 'pop_between_18_34', 'pop_between_34_65', 'pop_over_65']\n",
            "Station                                            AUI-10263\n",
            "Address                      1231 S Hill St, Los Angeles, CA\n",
            "lat                                                  34.0385\n",
            "lon                                                 -118.262\n",
            "zipcode                                           90015-3018\n",
            "Geo_FIPS                                          6037207900\n",
            "concentrated_disadvantage                          -0.116582\n",
            "commute_time                                              29\n",
            "cars_per_home                                      0.0944039\n",
            "median_household_income                                88800\n",
            "ev_car_zip_count                                         224\n",
            "total_population                                        6133\n",
            "pop_below_18                                             515\n",
            "pop_between_18_34                                       3220\n",
            "pop_between_34_65                                       2063\n",
            "pop_over_65                                              335\n",
            "Name: 1, dtype: object\n"
          ],
          "name": "stdout"
        }
      ]
    },
    {
      "cell_type": "code",
      "metadata": {
        "id": "SfJB41iuBHBo",
        "colab": {
          "base_uri": "https://localhost:8080/",
          "height": 17
        },
        "outputId": "bcdae949-3b2b-4aaa-a621-fcef47cc02e2"
      },
      "source": [
        "from google.colab import files\n",
        "df_stations.to_csv('stations_with_features.csv') \n",
        "files.download('stations_with_features.csv')"
      ],
      "execution_count": null,
      "outputs": [
        {
          "output_type": "display_data",
          "data": {
            "application/javascript": [
              "\n",
              "    async function download(id, filename, size) {\n",
              "      if (!google.colab.kernel.accessAllowed) {\n",
              "        return;\n",
              "      }\n",
              "      const div = document.createElement('div');\n",
              "      const label = document.createElement('label');\n",
              "      label.textContent = `Downloading \"${filename}\": `;\n",
              "      div.appendChild(label);\n",
              "      const progress = document.createElement('progress');\n",
              "      progress.max = size;\n",
              "      div.appendChild(progress);\n",
              "      document.body.appendChild(div);\n",
              "\n",
              "      const buffers = [];\n",
              "      let downloaded = 0;\n",
              "\n",
              "      const channel = await google.colab.kernel.comms.open(id);\n",
              "      // Send a message to notify the kernel that we're ready.\n",
              "      channel.send({})\n",
              "\n",
              "      for await (const message of channel.messages) {\n",
              "        // Send a message to notify the kernel that we're ready.\n",
              "        channel.send({})\n",
              "        if (message.buffers) {\n",
              "          for (const buffer of message.buffers) {\n",
              "            buffers.push(buffer);\n",
              "            downloaded += buffer.byteLength;\n",
              "            progress.value = downloaded;\n",
              "          }\n",
              "        }\n",
              "      }\n",
              "      const blob = new Blob(buffers, {type: 'application/binary'});\n",
              "      const a = document.createElement('a');\n",
              "      a.href = window.URL.createObjectURL(blob);\n",
              "      a.download = filename;\n",
              "      div.appendChild(a);\n",
              "      a.click();\n",
              "      div.remove();\n",
              "    }\n",
              "  "
            ],
            "text/plain": [
              "<IPython.core.display.Javascript object>"
            ]
          },
          "metadata": {
            "tags": []
          }
        },
        {
          "output_type": "display_data",
          "data": {
            "application/javascript": [
              "download(\"download_d194f104-b622-46d2-b71d-678ca39b3150\", \"stations_with_features.csv\", 30846)"
            ],
            "text/plain": [
              "<IPython.core.display.Javascript object>"
            ]
          },
          "metadata": {
            "tags": []
          }
        }
      ]
    },
    {
      "cell_type": "markdown",
      "metadata": {
        "id": "fziz5rsW2wQA"
      },
      "source": [
        "## Combine Features and Labels"
      ]
    },
    {
      "cell_type": "code",
      "metadata": {
        "id": "v7T8RKuU2w7D"
      },
      "source": [
        "from tqdm.notebook import tqdm\n",
        "import pandas as pd\n",
        "import numpy as np\n",
        "\n",
        "features_url = 'https://github.com/d-rabinovich/EV-Charger-Project/blob/main/stations_with_features.csv?raw=true'\n",
        "labels_url = 'https://raw.githubusercontent.com/amberguo/ev-charger/main/Flo_Parks_Utilization_Report_addresses.csv?raw=true'"
      ],
      "execution_count": null,
      "outputs": []
    },
    {
      "cell_type": "code",
      "metadata": {
        "id": "tD6O4K1U3LVK",
        "colab": {
          "base_uri": "https://localhost:8080/"
        },
        "outputId": "e836dee0-1ce5-4e4c-ad50-f13cc8f8998a"
      },
      "source": [
        "features_raw = pd.read_csv(features_url, encoding = \"ISO-8859-1\")\n",
        "labels_raw = pd.read_csv(labels_url, encoding = \"ISO-8859-1\")\n",
        "\n",
        "features_cols = ['Station', 'lat', 'lon', 'zipcode', 'Geo_FIPS', \n",
        "                 'concentrated_disadvantage', 'commute_time', \n",
        "                 'cars_per_home', 'median_household_income',\n",
        "                 'ev_car_zip_count']\n",
        "labels_cols = ['Station', 'Total Sessions', 'Total Connection Time', \n",
        "               'Total Amount', 'Total kWh']\n",
        "\n",
        "features = features_raw[features_cols]\n",
        "labels = labels_raw[labels_cols]\n",
        "\n",
        "# clean up station id\n",
        "labels['Station'] = labels['Station'].str.split(\"\\\"\").str[1]"
      ],
      "execution_count": null,
      "outputs": [
        {
          "output_type": "stream",
          "text": [
            "SettingWithCopyWarning: \n",
            "A value is trying to be set on a copy of a slice from a DataFrame.\n",
            "Try using .loc[row_indexer,col_indexer] = value instead\n",
            "\n",
            "See the caveats in the documentation: https://pandas.pydata.org/pandas-docs/stable/user_guide/indexing.html#returning-a-view-versus-a-copy\n"
          ],
          "name": "stderr"
        }
      ]
    },
    {
      "cell_type": "code",
      "metadata": {
        "id": "qH0Er19Y5X7W",
        "colab": {
          "base_uri": "https://localhost:8080/"
        },
        "outputId": "62202c16-e1fd-48f2-e2fb-202579edec79"
      },
      "source": [
        "labels.drop(columns='Station', inplace=True)"
      ],
      "execution_count": null,
      "outputs": [
        {
          "output_type": "stream",
          "text": [
            "ur good\n"
          ],
          "name": "stdout"
        },
        {
          "output_type": "stream",
          "text": [
            "SettingWithCopyWarning: \n",
            "A value is trying to be set on a copy of a slice from a DataFrame\n",
            "\n",
            "See the caveats in the documentation: https://pandas.pydata.org/pandas-docs/stable/user_guide/indexing.html#returning-a-view-versus-a-copy\n"
          ],
          "name": "stderr"
        }
      ]
    },
    {
      "cell_type": "code",
      "metadata": {
        "id": "uHn5-vJt91Tk",
        "colab": {
          "base_uri": "https://localhost:8080/"
        },
        "outputId": "f349b00b-d148-4262-f39a-76fa27b8dab8"
      },
      "source": [
        "# Combine the two\n",
        "df = pd.concat([features, labels], axis = 1)\n",
        "print(list(df))\n",
        "print(df.loc[1,:])"
      ],
      "execution_count": null,
      "outputs": [
        {
          "output_type": "stream",
          "text": [
            "['Station', 'lat', 'lon', 'zipcode', 'Geo_FIPS', 'concentrated_disadvantage', 'commute_time', 'cars_per_home', 'median_household_income', 'ev_car_zip_count', 'Total Sessions', 'Total Connection Time', 'Total Amount', 'Total kWh']\n",
            "Station                       AUI-10263\n",
            "lat                             34.0385\n",
            "lon                            -118.262\n",
            "zipcode                      90015-3018\n",
            "Geo_FIPS                     6037207900\n",
            "concentrated_disadvantage     -0.116582\n",
            "commute_time                         29\n",
            "cars_per_home                 0.0944039\n",
            "median_household_income           88800\n",
            "ev_car_zip_count                    224\n",
            "Total Sessions                      159\n",
            "Total Connection Time            542:59\n",
            "Total Amount                      67.38\n",
            "Total kWh                       2846.12\n",
            "Name: 1, dtype: object\n"
          ],
          "name": "stdout"
        }
      ]
    },
    {
      "cell_type": "code",
      "metadata": {
        "id": "79qId155b0Z9",
        "colab": {
          "base_uri": "https://localhost:8080/",
          "height": 17
        },
        "outputId": "a13582fc-de2a-40a5-8055-98ede16174d2"
      },
      "source": [
        "from google.colab import files\n",
        "df.to_csv('stations_with_features_and_outcomes.csv') \n",
        "files.download('stations_with_features_and_outcomes.csv')"
      ],
      "execution_count": null,
      "outputs": [
        {
          "output_type": "display_data",
          "data": {
            "application/javascript": [
              "\n",
              "    async function download(id, filename, size) {\n",
              "      if (!google.colab.kernel.accessAllowed) {\n",
              "        return;\n",
              "      }\n",
              "      const div = document.createElement('div');\n",
              "      const label = document.createElement('label');\n",
              "      label.textContent = `Downloading \"${filename}\": `;\n",
              "      div.appendChild(label);\n",
              "      const progress = document.createElement('progress');\n",
              "      progress.max = size;\n",
              "      div.appendChild(progress);\n",
              "      document.body.appendChild(div);\n",
              "\n",
              "      const buffers = [];\n",
              "      let downloaded = 0;\n",
              "\n",
              "      const channel = await google.colab.kernel.comms.open(id);\n",
              "      // Send a message to notify the kernel that we're ready.\n",
              "      channel.send({})\n",
              "\n",
              "      for await (const message of channel.messages) {\n",
              "        // Send a message to notify the kernel that we're ready.\n",
              "        channel.send({})\n",
              "        if (message.buffers) {\n",
              "          for (const buffer of message.buffers) {\n",
              "            buffers.push(buffer);\n",
              "            downloaded += buffer.byteLength;\n",
              "            progress.value = downloaded;\n",
              "          }\n",
              "        }\n",
              "      }\n",
              "      const blob = new Blob(buffers, {type: 'application/binary'});\n",
              "      const a = document.createElement('a');\n",
              "      a.href = window.URL.createObjectURL(blob);\n",
              "      a.download = filename;\n",
              "      div.appendChild(a);\n",
              "      a.click();\n",
              "      div.remove();\n",
              "    }\n",
              "  "
            ],
            "text/plain": [
              "<IPython.core.display.Javascript object>"
            ]
          },
          "metadata": {
            "tags": []
          }
        },
        {
          "output_type": "display_data",
          "data": {
            "application/javascript": [
              "download(\"download_178ed0c3-833a-4c2b-804e-de48951ccc1a\", \"stations_with_features_and_outcomes.csv\", 25100)"
            ],
            "text/plain": [
              "<IPython.core.display.Javascript object>"
            ]
          },
          "metadata": {
            "tags": []
          }
        }
      ]
    },
    {
      "cell_type": "markdown",
      "metadata": {
        "id": "XnZeveFCWJPJ"
      },
      "source": [
        "# **Circular Geo-Analysis**\n",
        "### Dan Rabinovich\n",
        "\n"
      ]
    },
    {
      "cell_type": "markdown",
      "metadata": {
        "id": "rrBM-jbjUZ7Y"
      },
      "source": [
        "Below is the code Parthik put into the census slides\n",
        "\n",
        "*   **swifter**: Applies functions to pandas dfs quickly\n",
        "*   **functools.partial**: Creates a \"callable\" that freezes some of the arguments of a function in place. \n",
        "  * e.g. You can create a partial of a function w/ 2 args and you only have to supply one arg to the partial. \n",
        "*   **pyproj**: Python interface with PROJ, a cartography API\n",
        "*   **lambda row**: Still uncertain, but this seems to apply an *unnamed* function to a dataframe, rather than say np.sqrt( )\n",
        "  * The function comes after the colon"
      ]
    },
    {
      "cell_type": "markdown",
      "metadata": {
        "id": "DlyOEaqilViE"
      },
      "source": [
        "## Making Polygons of Coordinates"
      ]
    },
    {
      "cell_type": "markdown",
      "metadata": {
        "id": "0rSuHni5jYKD"
      },
      "source": [
        "The code in this subsection is from the Census Tutorial slides with the dataframe names changed"
      ]
    },
    {
      "cell_type": "code",
      "metadata": {
        "id": "Jvk3Kh8VWS6x"
      },
      "source": [
        "%%time\n",
        "\n",
        "!pip install swifter\n",
        "!pip install pyproj\n",
        "\n",
        "import swifter \n",
        "from functools import partial\n",
        "import pyproj \n",
        "from shapely.ops import transform\n",
        "from shapely.geometry import Point\n",
        "import pandas as pd\n",
        "import numpy as np\n",
        "import geopy"
      ],
      "execution_count": null,
      "outputs": []
    },
    {
      "cell_type": "code",
      "metadata": {
        "id": "wQTuCFIDU_dF"
      },
      "source": [
        "stations_url = 'https://github.com/d-rabinovich/EV-Charger-Project/blob/main/addresses.csv?raw=true'\n",
        "\n",
        "df_stations = pd.read_csv(stations_url, encoding = \"ISO-8859-1\")"
      ],
      "execution_count": null,
      "outputs": []
    },
    {
      "cell_type": "code",
      "metadata": {
        "id": "irZThXJyWdRn",
        "colab": {
          "base_uri": "https://localhost:8080/"
        },
        "outputId": "c3f9a683-8b4f-462b-c9f3-dadd763ef57a"
      },
      "source": [
        "proj_wgs84 = pyproj.Proj(init='epsg:4326')\n",
        "\n",
        "radius_km = 1 # Change this to what we want\n",
        "\n",
        "def geodesic_point_buffer(lat, lon, km):\n",
        "  # Azimuthal equidistant projection\n",
        "  aeqd_proj = '+proj=aeqd +lat_0={lat} +lon_0={lon} +x_0=0 +y_0=0'\n",
        "  project = partial(\n",
        "      pyproj.transform,\n",
        "      pyproj.Proj(aeqd_proj.format(lat=lat, lon=lon)),\n",
        "      proj_wgs84)\n",
        "  buf = Point(0,0).buffer(km*1000) # Buffer takes meters\n",
        "  return transform(project, buf).exterior.coords[:]\n",
        "\n",
        "# Flo_parks_utliziation_report.csv\n",
        "df_stations['polygon'] =\\\n",
        "  df_stations.swifter.apply(lambda row: geodesic_point_buffer(row['lat'], row['lon'], radius_km), \n",
        "                                                            axis=1)"
      ],
      "execution_count": null,
      "outputs": [
        {
          "output_type": "stream",
          "text": [
            "\u001b[2m\u001b[36m(pid=248)\u001b[0m FutureWarning: '+init=<authority>:<code>' syntax is deprecated. '<authority>:<code>' is the preferred initialization method. When making the change, be mindful of axis order changes: https://pyproj4.github.io/pyproj/stable/gotchas.html#axis-order-changes-in-proj-6\n",
            "\u001b[2m\u001b[36m(pid=249)\u001b[0m FutureWarning: '+init=<authority>:<code>' syntax is deprecated. '<authority>:<code>' is the preferred initialization method. When making the change, be mindful of axis order changes: https://pyproj4.github.io/pyproj/stable/gotchas.html#axis-order-changes-in-proj-6\n",
            "\u001b[2m\u001b[36m(pid=248)\u001b[0m FutureWarning: '+init=<authority>:<code>' syntax is deprecated. '<authority>:<code>' is the preferred initialization method. When making the change, be mindful of axis order changes: https://pyproj4.github.io/pyproj/stable/gotchas.html#axis-order-changes-in-proj-6\n",
            "\u001b[2m\u001b[36m(pid=249)\u001b[0m FutureWarning: '+init=<authority>:<code>' syntax is deprecated. '<authority>:<code>' is the preferred initialization method. When making the change, be mindful of axis order changes: https://pyproj4.github.io/pyproj/stable/gotchas.html#axis-order-changes-in-proj-6\n"
          ],
          "name": "stderr"
        }
      ]
    },
    {
      "cell_type": "code",
      "metadata": {
        "id": "bPgtm_DpWiT4",
        "colab": {
          "base_uri": "https://localhost:8080/"
        },
        "outputId": "a41ddf32-7f7a-418f-f414-c1ace053b99b"
      },
      "source": [
        "%%time \n",
        "from shapely.geometry import Polygon\n",
        "\n",
        "def check_point_in_polygon(lons_lats_vect, x, y):\n",
        "  polygon = Polygon(lons_lats_vect) # Creates polygon\n",
        "  point = Point(y, x) # Creates point\n",
        "  return polygon.contains(point) or polygon.touches(point)"
      ],
      "execution_count": null,
      "outputs": [
        {
          "output_type": "stream",
          "text": [
            "CPU times: user 13 µs, sys: 2 µs, total: 15 µs\n",
            "Wall time: 18.4 µs\n"
          ],
          "name": "stdout"
        }
      ]
    },
    {
      "cell_type": "markdown",
      "metadata": {
        "id": "qJybZFsTH9GQ"
      },
      "source": [
        "* Convert polygons to lists of tracts and zipcodes\n",
        "* Get counts for each tract and zipcode\n",
        "* Take weighted mean of features\n"
      ]
    },
    {
      "cell_type": "markdown",
      "metadata": {
        "id": "SphIQF9BBdZo"
      },
      "source": [
        "## Convert to Census Tracts\n",
        "\n"
      ]
    },
    {
      "cell_type": "code",
      "metadata": {
        "id": "hpVPqIzPAoZu"
      },
      "source": [
        "import pandas as pd # this is so we can run bookmark alone\n",
        "import json\n",
        "from urllib.request import urlopen\n",
        "import time\n",
        "from shapely.geometry import Point\n",
        "from shapely.geometry import Polygon\n",
        "from shapely.geometry import MultiPolygon"
      ],
      "execution_count": null,
      "outputs": []
    },
    {
      "cell_type": "code",
      "metadata": {
        "id": "HwQS9u95Dixn"
      },
      "source": [
        "# https://geohub.lacity.org/datasets/census-tracts-2010-population/data?geometry=-120.029%2C33.595%2C-116.560%2C34.392\n",
        "la_tracts_url = 'http://s3-us-west-2.amazonaws.com/boundaries.latimes.com/archive/1.0/boundary-set/census-tracts-2012.geojson'\n",
        "response = urlopen(la_tracts_url)\n",
        "la_tracts = json.loads(response.read())"
      ],
      "execution_count": null,
      "outputs": []
    },
    {
      "cell_type": "code",
      "metadata": {
        "id": "TdUTvMM9Bq4K",
        "colab": {
          "base_uri": "https://localhost:8080/",
          "height": 84,
          "referenced_widgets": [
            "3384928cab1f411b8dddf8dc1f68e0b0",
            "89e2241cbbe548b7a8c789e2130d8464",
            "4a56dea14e81479f885a8ee55a28ed30",
            "bcf4ce7a4b3b472ba52b0e825a790133",
            "4d9a193ba75948708202243dc346f832",
            "55bfefb7778641fd911293bbd8e67bd2",
            "d34e9662fdae4cabbf0e4799c881f412",
            "46aaece9567d4317be3803a96450e8e8"
          ]
        },
        "outputId": "144ebc74-2985-40bb-bc2e-6feb9c434e0c"
      },
      "source": [
        "import time\n",
        "from tqdm.notebook import tqdm\n",
        "\n",
        "# Adds a column as a feature\n",
        "# (tract id, overlap as a proportion of tract, overlap as a proportion of charger's circle)\n",
        "start_time = time.time()\n",
        "tract_hits_list = []\n",
        "for ind, row in tqdm(df_stations.iterrows(), total=df_stations.shape[0]):\n",
        "  poly = pd.Series(row['polygon'])\n",
        "  Poly = Polygon(poly)\n",
        "  p_area = Poly.area\n",
        "  tract_hits = []\n",
        "  counter = 0\n",
        "\n",
        "  o_area = 0\n",
        "  t_area = 0\n",
        "\n",
        "  for obj in la_tracts[\"features\"]: # Creates list of census tracts\n",
        "    tract_id = float(\"06037\" + str(obj['properties']['metadata']['TRACTCE']))\n",
        "    tracts = []\n",
        "    if obj['geometry']['type'] == \"MultiPolygon\":\n",
        "      \n",
        "      for polyg in obj['geometry']['coordinates']:\n",
        "        tracts.append(Polygon(polyg[0]))\n",
        "    else:\n",
        "      tracts.append(Polygon(obj['geometry']['coordinates'][0]))\n",
        "    \n",
        "    o_area = 0\n",
        "    t_area = 0\n",
        "    for tract in tracts:\n",
        "      overlap = tract.intersection(Poly)\n",
        "      o_area += overlap.area\n",
        "      t_area += tract.area\n",
        "    if o_area != 0:\n",
        "      tract_hits.append((float(tract_id), (o_area / t_area), (o_area / p_area)))\n",
        "  tract_hits_list.append(tract_hits)\n",
        "df_stations['tract_hits'] = tract_hits_list\n",
        "\n",
        "total_time = time.time() - start_time\n",
        "\n",
        "print(total_time)\n",
        "\n",
        "  "
      ],
      "execution_count": null,
      "outputs": [
        {
          "output_type": "display_data",
          "data": {
            "application/vnd.jupyter.widget-view+json": {
              "model_id": "3384928cab1f411b8dddf8dc1f68e0b0",
              "version_minor": 0,
              "version_major": 2
            },
            "text/plain": [
              "HBox(children=(FloatProgress(value=0.0, max=177.0), HTML(value='')))"
            ]
          },
          "metadata": {
            "tags": []
          }
        },
        {
          "output_type": "stream",
          "text": [
            "\n",
            "23.421643257141113\n"
          ],
          "name": "stdout"
        }
      ]
    },
    {
      "cell_type": "markdown",
      "metadata": {
        "id": "Mo3ay7lNWpKj"
      },
      "source": [
        "## Visualizing radial geonalaysis\n",
        "\n"
      ]
    },
    {
      "cell_type": "markdown",
      "metadata": {
        "id": "ShVqREtraNGb"
      },
      "source": [
        "First I will find a charger with only a few overlaps to make it simpler"
      ]
    },
    {
      "cell_type": "code",
      "metadata": {
        "id": "FchdKoZFaS7k",
        "colab": {
          "base_uri": "https://localhost:8080/"
        },
        "outputId": "ceaf314b-c664-4b1a-b566-18e62aacdd8d"
      },
      "source": [
        "tract_vis = df_stations['tract_hits']\n",
        "print(type(tract_vis))\n",
        "for ind, val in tract_vis.iteritems():\n",
        "  print(f\"{ind}: {len(val)}\")"
      ],
      "execution_count": null,
      "outputs": [
        {
          "output_type": "stream",
          "text": [
            "<class 'pandas.core.series.Series'>\n",
            "0: 10\n",
            "1: 7\n",
            "2: 7\n",
            "3: 13\n",
            "4: 9\n",
            "5: 8\n",
            "6: 7\n",
            "7: 11\n",
            "8: 14\n",
            "9: 6\n",
            "10: 4\n",
            "11: 5\n",
            "12: 8\n",
            "13: 4\n",
            "14: 8\n",
            "15: 9\n",
            "16: 7\n",
            "17: 8\n",
            "18: 6\n",
            "19: 6\n",
            "20: 4\n",
            "21: 6\n",
            "22: 7\n",
            "23: 9\n",
            "24: 9\n",
            "25: 12\n",
            "26: 12\n",
            "27: 7\n",
            "28: 6\n",
            "29: 9\n",
            "30: 7\n",
            "31: 9\n",
            "32: 14\n",
            "33: 23\n",
            "34: 6\n",
            "35: 4\n",
            "36: 6\n",
            "37: 5\n",
            "38: 12\n",
            "39: 23\n",
            "40: 10\n",
            "41: 10\n",
            "42: 13\n",
            "43: 8\n",
            "44: 6\n",
            "45: 12\n",
            "46: 10\n",
            "47: 6\n",
            "48: 13\n",
            "49: 8\n",
            "50: 7\n",
            "51: 9\n",
            "52: 14\n",
            "53: 12\n",
            "54: 6\n",
            "55: 10\n",
            "56: 8\n",
            "57: 9\n",
            "58: 13\n",
            "59: 8\n",
            "60: 10\n",
            "61: 9\n",
            "62: 7\n",
            "63: 6\n",
            "64: 5\n",
            "65: 6\n",
            "66: 8\n",
            "67: 3\n",
            "68: 8\n",
            "69: 10\n",
            "70: 8\n",
            "71: 15\n",
            "72: 12\n",
            "73: 6\n",
            "74: 9\n",
            "75: 7\n",
            "76: 4\n",
            "77: 11\n",
            "78: 7\n",
            "79: 8\n",
            "80: 5\n",
            "81: 12\n",
            "82: 7\n",
            "83: 7\n",
            "84: 11\n",
            "85: 12\n",
            "86: 9\n",
            "87: 5\n",
            "88: 8\n",
            "89: 18\n",
            "90: 8\n",
            "91: 7\n",
            "92: 11\n",
            "93: 12\n",
            "94: 5\n",
            "95: 7\n",
            "96: 3\n",
            "97: 5\n",
            "98: 7\n",
            "99: 6\n",
            "100: 6\n",
            "101: 9\n",
            "102: 4\n",
            "103: 9\n",
            "104: 8\n",
            "105: 4\n",
            "106: 14\n",
            "107: 7\n",
            "108: 8\n",
            "109: 11\n",
            "110: 5\n",
            "111: 11\n",
            "112: 8\n",
            "113: 12\n",
            "114: 10\n",
            "115: 10\n",
            "116: 12\n",
            "117: 9\n",
            "118: 6\n",
            "119: 6\n",
            "120: 10\n",
            "121: 11\n",
            "122: 14\n",
            "123: 10\n",
            "124: 9\n",
            "125: 15\n",
            "126: 20\n",
            "127: 20\n",
            "128: 18\n",
            "129: 13\n",
            "130: 10\n",
            "131: 15\n",
            "132: 10\n",
            "133: 11\n",
            "134: 23\n",
            "135: 6\n",
            "136: 8\n",
            "137: 7\n",
            "138: 6\n",
            "139: 10\n",
            "140: 6\n",
            "141: 8\n",
            "142: 9\n",
            "143: 8\n",
            "144: 3\n",
            "145: 9\n",
            "146: 7\n",
            "147: 8\n",
            "148: 10\n",
            "149: 6\n",
            "150: 9\n",
            "151: 9\n",
            "152: 5\n",
            "153: 10\n",
            "154: 7\n",
            "155: 8\n",
            "156: 6\n",
            "157: 11\n",
            "158: 8\n",
            "159: 4\n",
            "160: 11\n",
            "161: 11\n",
            "162: 11\n",
            "163: 7\n",
            "164: 4\n",
            "165: 11\n",
            "166: 9\n",
            "167: 6\n",
            "168: 11\n",
            "169: 9\n",
            "170: 7\n",
            "171: 9\n",
            "172: 9\n",
            "173: 11\n",
            "174: 20\n",
            "175: 11\n",
            "176: 11\n"
          ],
          "name": "stdout"
        }
      ]
    },
    {
      "cell_type": "code",
      "metadata": {
        "id": "Fo3z9k90HYPe",
        "colab": {
          "base_uri": "https://localhost:8080/"
        },
        "outputId": "2581af71-1b96-4f49-84a7-881f717dd252"
      },
      "source": [
        "for ind, val in df_stations['Address'].iteritems():\n",
        "  print(ind, \": \", val)"
      ],
      "execution_count": null,
      "outputs": [
        {
          "output_type": "stream",
          "text": [
            "0 :  2316 W Martin Luther King Jr Blvd, Los Angeles, CA\n",
            "1 :  1231 S Hill St, Los Angeles, CA\n",
            "2 :  942 S Crocker St, Los Angeles, CA\n",
            "3 :  5764 S Vermont Ave, Los Angeles, CA\n",
            "4 :  7150 N Shoup Ave, Los Angeles, CA\n",
            "5 :  20771 W Sherman Way, Los Angeles, CA\n",
            "6 :  145 E Olympic Blvd, Los Angeles, CA\n",
            "7 :  1222 S Grand Ave, Los Angeles, CA\n",
            "8 :  1676 N Hobart Blvd, Los Angeles, CA\n",
            "9 :  5617 N Laurel Canyon Blvd, Los Angeles, CA\n",
            "10 :  4977 N Genesta Ave, Los Angeles, CA\n",
            "11 :  4882 N Libbit Ave, Los Angeles, CA\n",
            "12 :  5093 Alonzo Ave, Los Angeles, CA\n",
            "13 :  20217 Prairie St, Los Angeles, CA\n",
            "14 :  25825 Normandie Ave, Los Angeles, CA\n",
            "15 :  25820 S Western Ave, Los Angeles, CA\n",
            "16 :  1557 W 19th St, Los Angeles, CA\n",
            "17 :  12412 W Moorpark St, Los Angeles, CA\n",
            "18 :  23743 W Roscoe Blvd, Los Angeles, CA\n",
            "19 :  17729 Chatsworth Ave, Los Angeles, CA\n",
            "20 :  6710 Platt Ave, Los Angeles, CA\n",
            "21 :  290 N Mission Road, Los Angeles, CA\n",
            "22 :  17832 Plummer Street, Los Angeles, CA\n",
            "23 :  20321 W Saticoy St, Los Angeles, CA\n",
            "24 :  651 W 1st, Los Angeles, CA\n",
            "25 :  9200 Venice Blvd, Los Angeles, CA\n",
            "26 :  4712 W Washington Blvd, Los Angeles, CA\n",
            "27 :  13310 W Bluff Creek Dr, Los Angeles, CA\n",
            "28 :  9037 Loyola Blvd, Los Angeles, CA\n",
            "29 :  1724 W Century Blvd, Los Angeles, CA\n",
            "30 :  8843 S St Andrews Pl, Los Angeles, CA\n",
            "31 :  8923 S Western Ave, Los Angeles, CA\n",
            "32 :  3145 S Vermont Ave, Los Angeles, CA\n",
            "33 :  3540 W 3rd St, Los Angeles, CA\n",
            "34 :  19054 N Kittridge St, Los Angeles, CA\n",
            "35 :  23385 W Burbank Blvd, Los Angeles, CA\n",
            "36 :  18401-18435 Kittridge St, Los Angeles, CA\n",
            "37 :  6813 N Hayvenhurst Ave, Los Angeles, CA\n",
            "38 :  6013 W Cadillac Ave, Los Angeles, CA\n",
            "39 :  587 S Hobart Blvd, Los Angeles, CA\n",
            "40 :  609 W Alpine St, Los Angeles, CA\n",
            "41 :  6438 N Fulton Ave, Los Angeles, CA\n",
            "42 :  1109 South La Brea Ave, Los Angeles, CA\n",
            "43 :  7614 N Louise Ave, Los Angeles, CA\n",
            "44 :  9866 N De Soto Ave, Los Angeles, CA\n",
            "45 :  11118 S Main St, Los Angeles, CA\n",
            "46 :  3840 S Western Ave, Los Angeles, CA\n",
            "47 :  11730 National Blvd, Los Angeles, CA\n",
            "48 :  11667 W Santa Monica Blvd, Los Angeles, CA\n",
            "49 :  10478 W Wilshire Blvd, Los Angeles, CA\n",
            "50 :  8334 Lincoln Blvd, Los Angeles, CA\n",
            "51 :  12159 W Olympic Blvd, Los Angeles, CA\n",
            "52 :  6646 W Sunset Blvd, Los Angeles, CA\n",
            "53 :  12237 W Santa Monica Blvd, Los Angeles, CA\n",
            "54 :  11816 W Major St, Los Angeles, CA\n",
            "55 :  11677 San Vicente Blvd, Los Angeles, CA\n",
            "56 :  8624 S Wilton Pl, Los Angeles, CA\n",
            "57 :  1516 N North Spring St, Los Angeles, CA\n",
            "58 :  616 W Washington Blvd, Los Angeles, CA\n",
            "59 :  13076 W Sherman Way, Los Angeles, CA\n",
            "60 :  2843 S Flower St, Los Angeles, CA\n",
            "61 :  182 S Alameda St, Los Angeles, CA\n",
            "62 :  19135 W Victory Blvd, Los Angeles, CA\n",
            "63 :  12387 W Osborne St, Los Angeles, CA\n",
            "64 :  6765 W Foothill Blvd, Los Angeles, CA\n",
            "65 :  12518 W Oxnard St, Los Angeles, CA\n",
            "66 :  12728 W Sherman Way, Los Angeles, CA\n",
            "67 :  15596 W Roxford St, Los Angeles, CA\n",
            "68 :  13194 W Sherman Way, Los Angeles, CA\n",
            "69 :  1348 Abbot Kinney Blvd, Los Angeles, CA\n",
            "70 :  13629 W Sherman Way, Los Angeles, CA\n",
            "71 :  3773 Motor Ave, Los Angeles, CA\n",
            "72 :  840 Imperial Hwy, Los Angeles, CA\n",
            "73 :  4121 Valley Blvd, Los Angeles, CA\n",
            "74 :  1862 Robertson Blvd, Los Angeles, CA\n",
            "75 :  8931 Venice Blvd, Los Angeles, CA\n",
            "76 :  4940 Paso Robles Ave, Los Angeles, CA\n",
            "77 :  10928 W Pico Blvd, Los Angeles, CA\n",
            "78 :  4647 Marmion Way, Los Angeles, CA\n",
            "79 :  7224 Valjean Ave, Los Angeles, CA\n",
            "80 :  16501 Otsego St, Los Angeles, CA\n",
            "81 :  4424 Wesley Ave., Los Angeles, CA\n",
            "82 :  18235 South Figueroa St, Los Angeles, CA\n",
            "83 :  15321 S Figueroa St, Los Angeles, CA\n",
            "84 :  18401 Burbank Blvd, Los Angeles, CA\n",
            "85 :  7245 Canoga Ave, Los Angeles, CA\n",
            "86 :  5962 San Vicente Blvd, Los Angeles, CA\n",
            "87 :  14901 Rinaldi street, Los Angeles, CA\n",
            "88 :  10455 W Magnolia Blvd, Los Angeles, CA\n",
            "89 :  3117 Temple St., Los Angeles, CA\n",
            "90 :  20124 Sherman Way, Los Angeles, CA\n",
            "91 :  8245 Winnetka Ave, Los Angeles, CA\n",
            "92 :  1747 S Barrington Ave, Los Angeles, CA\n",
            "93 :  10416 Irene St, Los Angeles, CA\n",
            "94 :  722 Alameda St, Los Angeles, CA\n",
            "95 :  2900 S Sepulveda Blvd, Los Angeles, CA\n",
            "96 :  6510 Forest Lawn Drive, Los Angeles, CA\n",
            "97 :  11320 Laurel Canyon Blvd, Los Angeles, CA\n",
            "98 :  8309 Louise Ave, Los Angeles, CA\n",
            "99 :  7537 Balboa Blvd, Los Angeles, CA\n",
            "100 :  18099 Rinaldi street, Los Angeles, CA\n",
            "101 :  21900 Plummer St, Los Angeles, CA\n",
            "102 :  10567 Mason Ave, Los Angeles, CA\n",
            "103 :  5350 San Vicente Blvd, Los Angeles, CA\n",
            "104 :  1143 S Beverly Dr, Los Angeles, CA\n",
            "105 :  664 S Central Ave, Los Angeles, CA\n",
            "106 :  5931 W 18th St, Los Angeles, CA\n",
            "107 :  6299 W 87th St, Los Angeles, CA\n",
            "108 :  1398 S Orange Grove Ave, Los Angeles, CA\n",
            "109 :  2442 Marengo St, Los Angeles, CA\n",
            "110 :  10108 Mason Avenue, Los Angeles, CA\n",
            "111 :  3022 S Grand Ave, Los Angeles, CA\n",
            "112 :  3000 W Slauson Ave, Los Angeles, CA\n",
            "113 :  11009 S Figueroa St, Los Angeles, CA\n",
            "114 :  1033 W Pacific Coast Hwy, Los Angeles, CA\n",
            "115 :  5160 Vineland Avenue, Los Angeles, CA\n",
            "116 :  11410 Burbank Blvd, Los Angeles, CA\n",
            "117 :  21365 Erwin St, Los Angeles, CA\n",
            "118 :  8201 Tampa Avenue, Los Angeles, CA\n",
            "119 :  6007 Variel Ave, Los Angeles, CA\n",
            "120 :  7647 Canoga Avenue, Los Angeles, CA\n",
            "121 :  3845 Selig Pl, Los Angeles, CA\n",
            "122 :  10215 Palms Blvd, Los Angeles, CA\n",
            "123 :  9418 National Blvd, Los Angeles, CA\n",
            "124 :  13308 Paxton St, Los Angeles, CA\n",
            "125 :  1499 Gordon St, Los Angeles, CA\n",
            "126 :  3211 Beverly Blvd, Los Angeles, CA\n",
            "127 :  3215 Beverly Blvd, Los Angeles, CA\n",
            "128 :  256 S Lafayette Park Pl, Los Angeles, CA\n",
            "129 :  948 E Vernon Ave, Los Angeles, CA\n",
            "130 :  923 E 3rd St, Los Angeles, CA\n",
            "131 :  9850 Exposition Blvd, Los Angeles, CA\n",
            "132 :  1757 S Robertson Blvd, Los Angeles, CA\n",
            "133 :  2411 N Thomas Street, Los Angeles, CA\n",
            "134 :  176 S Virgil Ave, Los Angeles, CA\n",
            "135 :  3619 Regal Pl, Los Angeles, CA\n",
            "136 :  18744 Parthenia St, Los Angeles, CA\n",
            "137 :  21021 Devonshire St, Los Angeles, CA\n",
            "138 :  6945 Sepulveda Blvd, Los Angeles, CA\n",
            "139 :  838 S Barrington Ave, Los Angeles, CA\n",
            "140 :  4294 Coldwater Canyon Ave, Los Angeles, CA\n",
            "141 :  4319 Whitsett Ave, Los Angeles, CA\n",
            "142 :  15450 Plummer St, Los Angeles, CA\n",
            "143 :  11175 Glenoaks Blvd, Los Angeles, CA\n",
            "144 :  9776 S Sepulveda Blvd, Los Angeles, CA\n",
            "145 :  8932 Woodman Ave, Los Angeles, CA\n",
            "146 :  17415 Vanowen St, Los Angeles, CA\n",
            "147 :  4349 E Valley Blvd, Los Angeles, CA\n",
            "148 :  1751 Westwood Blvd, Los Angeles, CA\n",
            "149 :  6959 Esplanade St, Los Angeles, CA\n",
            "150 :  1248 Westwood Blvd, Los Angeles, CA\n",
            "151 :  4839 Laurel Canyon Blvd, Los Angeles, CA\n",
            "152 :  7428 S Sepulveda Blvd, Los Angeles, CA\n",
            "153 :  10654 W Magnolia Blvd, Los Angeles, CA\n",
            "154 :  6040 Jefferson Blvd, Los Angeles, CA\n",
            "155 :  5263 Packard, Los Angeles, CA\n",
            "156 :  9818 Reseda Blvd, Los Angeles, CA\n",
            "157 :  8800 S Hoover St, Los Angeles, CA\n",
            "158 :  9889 Beachy Ave, Los Angeles, CA\n",
            "159 :  10645 Glenoaks Blvd, Los Angeles, CA\n",
            "160 :  2044 Reservoir St, Los Angeles, CA\n",
            "161 :  7178 Tujunga Ave, Los Angeles, CA\n",
            "162 :  11169 Weddington St, Los Angeles, CA\n",
            "163 :  5441 E Valley Blvd, Los Angeles, CA\n",
            "164 :  8935 Mason Ave, Los Angeles, CA\n",
            "165 :  10949 Huston St, Los Angeles, CA\n",
            "166 :  10517 San Fernando Rd, Los Angeles, CA\n",
            "167 :  11185 Hindry Ave, Los Angeles, CA\n",
            "168 :  10634 Valparaiso St, Los Angeles, CA\n",
            "169 :  4240 Fulton Ave, Los Angeles, CA\n",
            "170 :  4236 Longridge Ave, Los Angeles, CA\n",
            "171 :  7123 Tampa Ave, Los Angeles, CA\n",
            "172 :  13214 Moorpark St, Los Angeles, CA\n",
            "173 :  11048 Huston St, Los Angeles, CA\n",
            "174 :  998 S Hobart Blvd, Los Angeles, CA\n",
            "175 :  10919 S Figueroa St, Los Angeles, CA\n",
            "176 :  729 N North Spring St, Los Angeles, CA\n"
          ],
          "name": "stdout"
        }
      ]
    },
    {
      "cell_type": "code",
      "metadata": {
        "id": "0m47Ye0ZaBID",
        "colab": {
          "base_uri": "https://localhost:8080/"
        },
        "outputId": "a5a7bc0a-6914-4bc5-c8ed-612f72fdc7c2"
      },
      "source": [
        "print(df_stations.columns)"
      ],
      "execution_count": null,
      "outputs": [
        {
          "output_type": "stream",
          "text": [
            "Index(['Station', 'Address', 'lat', 'lon', 'zipcode', 'Geo_FIPS', 'polygon',\n",
            "       'tract_hits'],\n",
            "      dtype='object')\n"
          ],
          "name": "stdout"
        }
      ]
    },
    {
      "cell_type": "code",
      "metadata": {
        "id": "GF9eDo4JWyWY"
      },
      "source": [
        "import folium\n",
        "import json\n",
        "from folium import plugins\n",
        "\n",
        "la_tracts_url = 'http://boundaries.latimes.com/1.0/boundary-set/census-tracts-2012/?format=geojson'"
      ],
      "execution_count": null,
      "outputs": []
    },
    {
      "cell_type": "code",
      "metadata": {
        "id": "aW4EFy8HZvMl"
      },
      "source": [
        "# 6710 Platt Ave, Los Angeles, CA\n",
        "charger = df_stations.iloc[20]\n",
        "# charger = df_stations.iloc[5]\n",
        "coordinates = [charger['lat'], charger['lon']]"
      ],
      "execution_count": null,
      "outputs": []
    },
    {
      "cell_type": "code",
      "metadata": {
        "id": "2hl0DBeC0kZ5",
        "colab": {
          "base_uri": "https://localhost:8080/"
        },
        "outputId": "fda1ed99-1f0f-4a93-a281-7bca83811fe9"
      },
      "source": [
        "print(len(la_tracts))\n",
        "print(charger['Address'])"
      ],
      "execution_count": null,
      "outputs": [
        {
          "output_type": "stream",
          "text": [
            "2\n",
            "20771 W Sherman Way, Los Angeles, CA\n"
          ],
          "name": "stdout"
        }
      ]
    },
    {
      "cell_type": "code",
      "metadata": {
        "colab": {
          "base_uri": "https://localhost:8080/"
        },
        "id": "tGr1IVn1RJuz",
        "outputId": "037ff325-2f24-47cd-cf3c-d31a5b39a1af"
      },
      "source": [
        "poly = pd.Series(charger['polygon'])\n",
        "Poly = Polygon(poly)\n",
        "overlap_list = []\n",
        "counter = 0\n",
        "for obj in la_tracts[\"features\"]:\n",
        "  tract_id = float(\"06037\" + str(obj['properties']['metadata']['TRACTCE']))\n",
        "  tracts = []\n",
        "  \n",
        "  if obj['geometry']['type'] == \"MultiPolygon\":\n",
        "    for polyg in obj['geometry']['coordinates']:\n",
        "      tracts.append(Polygon(polyg[0]))\n",
        "  else:\n",
        "    tracts.append(Polygon(obj['geometry']['coordinates'][0]))\n",
        "  \n",
        "  for tract in tracts:\n",
        "    count = 0\n",
        "    if tract.intersects(Poly):\n",
        "      points = []\n",
        "      for point in poly:\n",
        "        if tract.contains(Point(point)):\n",
        "          count += 1\n",
        "    overlap_poly = tract.intersection(Poly)\n",
        "    overlap_area = overlap_poly.area\n",
        "    if overlap_area != 0:\n",
        "      overlap_list.append((float(tract_id), list(overlap_poly.exterior.coords[:-1])))\n",
        "\n",
        "  counter += 1\n",
        "\n",
        "print(overlap_list)\n",
        "print(len(overlap_list))"
      ],
      "execution_count": null,
      "outputs": [
        {
          "output_type": "stream",
          "text": [
            "[(6037127102.0, [(-118.44876, 34.203015), (-118.44870344472112, 34.209393994766934), (-118.44808339312604, 34.20915032336036), (-118.44717006231593, 34.20869545995472), (-118.4463148040251, 34.20816840525995), (-118.44552585580422, 34.207574236379436), (-118.44481081597463, 34.20691867681391), (-118.44417657044012, 34.206208041289834), (-118.44362922638423, 34.20544917489406), (-118.44317405349119, 34.20464938710275), (-118.4428154332553, 34.203816381341895), (-118.44255681686417, 34.20295818075938), (-118.442400692059, 34.2020830509252), (-118.44234855928666, 34.201199420205334), (-118.44234878237172, 34.20119565530833), (-118.448758, 34.201192)]), (6037127210.0, [(-118.44874025315963, 34.20940845995669), (-118.448764, 34.208458), (-118.457465, 34.208452), (-118.457459, 34.201069), (-118.46404044489688, 34.20106447874177), (-118.46404844071334, 34.201199420205334), (-118.463996307941, 34.202083050925204), (-118.46384018313583, 34.20295818075938), (-118.4635815667447, 34.203816381341895), (-118.46322294650881, 34.204649387102755), (-118.46276777361577, 34.20544917489407), (-118.46222042955988, 34.206208041289834), (-118.46158618402536, 34.20691867681391), (-118.46087114419578, 34.20757423637944), (-118.46008219597492, 34.20816840525995), (-118.45922693768406, 34.20869545995472), (-118.45831360687399, 34.20915032336037), (-118.45735100095635, 34.20952861371521), (-118.45634839242085, 34.209826686843435), (-118.45531543945658, 34.21004167129014), (-118.45426209284143, 34.21017149600763), (-118.4531985, 34.21021491032499), (-118.45213490715857, 34.21017149600763), (-118.45108156054341, 34.21004167129015), (-118.45004860757915, 34.209826686843435), (-118.44904599904368, 34.20952861371521)]), (6037127220.0, [(-118.457459, 34.201305), (-118.457465, 34.208452), (-118.448764, 34.208458), (-118.448758, 34.201192), (-118.457459, 34.201069)]), (6037127803.0, [(-118.457454, 34.194858), (-118.457459, 34.201069), (-118.448758, 34.201192), (-118.44872, 34.193927), (-118.457453, 34.193922)]), (6037127804.0, [(-118.46404044489688, 34.20106447874177), (-118.457459, 34.201069), (-118.457453, 34.193922), (-118.45957762426687, 34.19392078370491), (-118.46008106326119, 34.19423100061841), (-118.46086998929088, 34.19482507719019), (-118.46158505131163, 34.19548054444698), (-118.46221936256688, 34.19619109120969), (-118.46276681334746, 34.19694987580253), (-118.4632221298677, 34.197749591892965), (-118.46358092511392, 34.19858253881044), (-118.46383974117288, 34.199440695668386), (-118.46399608263023, 34.20031579857709)]), (6037127805.0, [(-118.45957762461809, 34.19392078392133), (-118.44872, 34.193927), (-118.4487191451743, 34.19299979905698), (-118.44904681568478, 34.19287103442831), (-118.45004924920994, 34.19257302014347), (-118.4510820025064, 34.19235807942135), (-118.45213513246935, 34.192228281629326), (-118.4531985, 34.19218487640358), (-118.45426186753066, 34.192228281629326), (-118.45531499749363, 34.19235807942135), (-118.45634775079006, 34.19257302014347), (-118.45735018431525, 34.192871034428315), (-118.45831264660562, 34.19324925308231), (-118.45922587069104, 34.19370403468499)]), (6037127910.0, [(-118.448721, 34.195154), (-118.448758, 34.201192), (-118.44234878237172, 34.20119565530833), (-118.44240091736977, 34.2003157985771), (-118.44255725882715, 34.199440695668386), (-118.44281607488608, 34.19858253881044), (-118.44317487013227, 34.19774959189296), (-118.44363018665254, 34.19694987580253), (-118.44417763743311, 34.19619109120969), (-118.44481194868837, 34.19548054444697), (-118.44552701070911, 34.19482507719018), (-118.44631593673881, 34.19423100061841), (-118.44680786637771, 34.193927875719545), (-118.44872, 34.193927)]), (6037128102.0, [(-118.44871926139349, 34.19299975338634), (-118.44872, 34.193927), (-118.44680786637771, 34.193927875719545), (-118.44717112930896, 34.193704034685), (-118.44808435339438, 34.19324925308231)])]\n",
            "8\n"
          ],
          "name": "stdout"
        }
      ]
    },
    {
      "cell_type": "code",
      "metadata": {
        "id": "U8vUofMnRJuz"
      },
      "source": [
        "def switch_lat_lon(coords_list):\n",
        "  ret_list = []\n",
        "  for coords in coords_list:\n",
        "    ret_list.append((coords[1], coords[0]))\n",
        "  return ret_list"
      ],
      "execution_count": null,
      "outputs": []
    },
    {
      "cell_type": "code",
      "metadata": {
        "id": "X_yCatq-RJuz"
      },
      "source": [
        "la_map = folium.Map(location=coordinates, tiles='Stamen Toner', zoom_start=14.5)\n",
        "\n",
        "# folium.GeoJson(\n",
        "#     la_tracts_url,\n",
        "# ).add_to(la_map)\n",
        "\n",
        "folium.Circle(\n",
        "    radius=20,\n",
        "    location=coordinates,\n",
        "    popup='Charger',\n",
        "    color='crimson',\n",
        "    fill=True,\n",
        ").add_to(la_map)\n",
        "\n",
        "folium.Circle(\n",
        "    radius=1000,\n",
        "    location=coordinates,\n",
        "    color='black',\n",
        "    # fill=True,\n",
        ").add_to(la_map)\n",
        "\n",
        "color_list = ['#3cb44b', '#42d4f4', '#e6194B', '#dcbeff', '#4363d8', '#f58231', '#800000', '#ffe119']\n",
        "for i in range(len(overlap_list)):\n",
        "  c_color = color_list[i]\n",
        "  folium.Polygon(\n",
        "      locations=switch_lat_lon(overlap_list[i][1]),\n",
        "      color=c_color,\n",
        "      fill=True,\n",
        "    ).add_to(la_map)"
      ],
      "execution_count": null,
      "outputs": []
    },
    {
      "cell_type": "code",
      "metadata": {
        "colab": {
          "base_uri": "https://localhost:8080/",
          "height": 531
        },
        "id": "rOpaF_RaRJuz",
        "outputId": "ef16bdf7-71db-40e7-f7a8-0222b60973f9"
      },
      "source": [
        "la_map"
      ],
      "execution_count": null,
      "outputs": [
        {
          "output_type": "execute_result",
          "data": {
            "text/html": [
              "<div style=\"width:100%;\"><div style=\"position:relative;width:100%;height:0;padding-bottom:60%;\"><span style=\"color:#565656\">Make this Notebook Trusted to load map: File -> Trust Notebook</span><iframe src=\"about:blank\" style=\"position:absolute;width:100%;height:100%;left:0;top:0;border:none !important;\" data-html=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 onload=\"this.contentDocument.open();this.contentDocument.write(atob(this.getAttribute('data-html')));this.contentDocument.close();\" allowfullscreen webkitallowfullscreen mozallowfullscreen></iframe></div></div>"
            ],
            "text/plain": [
              "<folium.folium.Map at 0x7fa562e41f60>"
            ]
          },
          "metadata": {
            "tags": []
          },
          "execution_count": 19
        }
      ]
    },
    {
      "cell_type": "code",
      "metadata": {
        "id": "vlgrhQ4vwXc3",
        "colab": {
          "base_uri": "https://localhost:8080/"
        },
        "outputId": "58bf650e-f094-462e-a7c9-ecdf28aa739f"
      },
      "source": [
        "print(df_stations.iloc[0])"
      ],
      "execution_count": null,
      "outputs": [
        {
          "output_type": "stream",
          "text": [
            "Station                                               AUI-10372\n",
            "Address       2316 W Martin Luther King Jr Blvd, Los Angeles...\n",
            "lat                                                     34.0107\n",
            "lon                                                    -118.319\n",
            "zipcode                                                   90008\n",
            "Geo_FIPS                                             6037234000\n",
            "polygon       [(-118.30805574691972, 34.010719223608945), (-...\n",
            "tract_hits    [(6037219020.0, 0.0909026365382895, 0.02093580...\n",
            "Name: 0, dtype: object\n"
          ],
          "name": "stdout"
        }
      ]
    },
    {
      "cell_type": "markdown",
      "metadata": {
        "id": "RtCEpJs0vKtP"
      },
      "source": [
        "## Convert to Zipcodes"
      ]
    },
    {
      "cell_type": "code",
      "metadata": {
        "id": "sMdyw-x0vPjQ"
      },
      "source": [
        "la_zips_url = 'https://raw.githubusercontent.com/ritvikmath/StarbucksStoreScraping/master/laZips.geojson'\n",
        "response = urlopen(la_zips_url)\n",
        "la_zips = json.loads(response.read())"
      ],
      "execution_count": null,
      "outputs": []
    },
    {
      "cell_type": "code",
      "metadata": {
        "id": "2fXGrjGGwz9X",
        "colab": {
          "base_uri": "https://localhost:8080/",
          "referenced_widgets": [
            "62d6e9c8508a48178234082c9467ca83",
            "dff94049197f4a47b4f6dd7e54ce0af1",
            "e679e7338d744185b5c01f9bf53f05d6",
            "74c6fd3717b849c99cdb911b3227aa14",
            "62823b9460cf4c8b8390dbea637adc04",
            "5e3f08084c534fc2898b1d4df6d3adbc",
            "1cb8d018b1c9405596b5fede64dbe3ee",
            "713b21345b8b4e42b5e7bb09a12c705f"
          ]
        },
        "outputId": "428854d1-b387-4f44-a22d-e70504462632"
      },
      "source": [
        "zips_hits_list = []\n",
        "for ind, row in tqdm(df_stations.iterrows(), total=df_stations.shape[0]):\n",
        "  poly = pd.Series(row['polygon'])\n",
        "  Poly = Polygon(poly)\n",
        "  zips_hits = []\n",
        "  for obj in la_zips[\"features\"]:\n",
        "    zipcode = obj['properties']['zipcode']\n",
        "    zipcodes = []\n",
        "    if obj['geometry']['type'] == \"MultiPolygon\":\n",
        "      for polyg in obj['geometry']['coordinates']:\n",
        "        zipcodes.append(Polygon(polyg[0]))\n",
        "    else:\n",
        "      zipcodes.append(Polygon(obj['geometry']['coordinates'][0]))\n",
        "\n",
        "    o_area = 0\n",
        "    t_area = 0\n",
        "    for zip in zipcodes:\n",
        "      if zip.is_valid == False:\n",
        "        zip = zip.buffer(0)\n",
        "      overlap = zip.intersection(Poly)\n",
        "      o_area += overlap.area\n",
        "      t_area += zip.area\n",
        "    if o_area != 0:\n",
        "      zips_hits.append((float(zipcode), (o_area / t_area))) # We only have an absolute feature \n",
        "  zips_hits_list.append(zips_hits)\n",
        "df_stations['zip_hits'] = zips_hits_list\n",
        "\n",
        "total_time = time.time() - start_time\n",
        "print(total_time)"
      ],
      "execution_count": null,
      "outputs": [
        {
          "output_type": "display_data",
          "data": {
            "application/vnd.jupyter.widget-view+json": {
              "model_id": "62d6e9c8508a48178234082c9467ca83",
              "version_minor": 0,
              "version_major": 2
            },
            "text/plain": [
              "HBox(children=(FloatProgress(value=0.0, max=177.0), HTML(value='')))"
            ]
          },
          "metadata": {
            "tags": []
          }
        },
        {
          "output_type": "stream",
          "text": [
            "\n",
            "94.95018529891968\n"
          ],
          "name": "stdout"
        }
      ]
    },
    {
      "cell_type": "markdown",
      "metadata": {
        "id": "6DqDDw4SPcX_"
      },
      "source": [
        "## Split Relative and Absolute Features"
      ]
    },
    {
      "cell_type": "code",
      "metadata": {
        "id": "pC4u9F-C9i8o"
      },
      "source": [
        "census_url = 'https://github.com/d-rabinovich/EV-Charger-Project/blob/main/cleaned_census_data_county.csv?raw=true'\n",
        "df_census = pd.read_csv(census_url, encoding = \"ISO-8859-1\")\n",
        "df_census.drop(columns='Unnamed: 0', inplace=True)"
      ],
      "execution_count": null,
      "outputs": []
    },
    {
      "cell_type": "code",
      "metadata": {
        "id": "TCh6yGawAE8E",
        "colab": {
          "base_uri": "https://localhost:8080/"
        },
        "outputId": "ad26d2de-79d1-46ac-f2f1-033eda0ac9c4"
      },
      "source": [
        "# Create lists of names, indices, and new names for relative and absolute features\n",
        "\n",
        "print(type(df_census.columns))\n",
        "relative_indices, absolute_indices = ([], [])\n",
        "relative_names, absolute_names = ([], [])\n",
        "for ind, val in pd.Series(df_census.columns).iteritems():\n",
        "  if val[0] == 'r':\n",
        "    relative_indices.append(ind)\n",
        "    relative_names.append(val[2:])\n",
        "  elif val[0] == 'a':\n",
        "    absolute_indices.append(ind)\n",
        "    absolute_names.append(val[2:])\n",
        "new_relative_names = [name + '_' + str(radius_km) + '_km' for name in relative_names]\n",
        "new_absolute_names = [name + '_' + str(radius_km) + '_km' for name in absolute_names]\n",
        "num_absolute_features = len(new_absolute_names)\n",
        "num_relative_features = len(new_relative_names)"
      ],
      "execution_count": null,
      "outputs": [
        {
          "output_type": "stream",
          "text": [
            "<class 'pandas.core.indexes.base.Index'>\n"
          ],
          "name": "stdout"
        }
      ]
    },
    {
      "cell_type": "markdown",
      "metadata": {
        "id": "M30P_JwZgCkc"
      },
      "source": [
        "## Convert Census Tract Hits to Features\n"
      ]
    },
    {
      "cell_type": "code",
      "metadata": {
        "id": "acsu6hEUgCRk"
      },
      "source": [
        "from tqdm.notebook import tqdm\n",
        "import numpy as np\n",
        "import pandas as pd"
      ],
      "execution_count": null,
      "outputs": []
    },
    {
      "cell_type": "code",
      "metadata": {
        "id": "uKiQIJSmKr7_",
        "colab": {
          "base_uri": "https://localhost:8080/",
          "referenced_widgets": [
            "859e581dd93d4ebea9046dc9a467c54a",
            "2ea5b4b92039478caafbdc1af0636746",
            "16d54fa606944c6498526014f914a9a5",
            "5208ba634608472ba6807196615d50a0",
            "17169647fa9443f38e1dc2491c44cd1d",
            "ca289869d43b4939a67f9668c5872845",
            "665fd139541543ada759016f08b1d261",
            "602175ab06fd4652a28b3202a0ddcff5"
          ]
        },
        "outputId": "69465f84-056c-4116-96bc-eeb62ab94cac"
      },
      "source": [
        "FIPS_List = np.array(df_census['Geo_FIPS'])\n",
        "absolute_feature_lists, relative_feature_lists = ([], [])\n",
        "for i in range(num_absolute_features):\n",
        "  absolute_feature_lists.append([])\n",
        "for i in range(num_relative_features):\n",
        "  relative_feature_lists.append([])\n",
        "\n",
        "for index, row in tqdm(df_stations.iterrows(), total=df_stations.shape[0]):\n",
        "  tract_hits = pd.Series(row['tract_hits'])\n",
        "  absolute_features, relative_features = ([], [])\n",
        "  for i in range(num_absolute_features):\n",
        "    absolute_features.append([])\n",
        "  for i in range(num_relative_features):\n",
        "    relative_features.append([])\n",
        "\n",
        "  for ind, val in tract_hits.iteritems():\n",
        "    f_result = np.where(FIPS_List == val[0])\n",
        "    found = True\n",
        "    try:\n",
        "      f_idx = f_result[0][0]\n",
        "    except:\n",
        "      found = False\n",
        "    i = 0\n",
        "    while (i < val[1]) and found:\n",
        "      for j in range(num_absolute_features):\n",
        "        absolute_features[j].append(val[1] * (df_census.iloc[f_idx, absolute_indices[j]]))\n",
        "      for j in range(num_relative_features):\n",
        "        relative_features[j].append(val[2] * (df_census.iloc[f_idx, relative_indices[j]]))\n",
        "      i += 1\n",
        "\n",
        "  # Change both of the following\n",
        "  for i in range(num_absolute_features):\n",
        "    absolute_feature_lists[i].append(np.nansum(np.array(absolute_features[i])))\n",
        "  for i in range(num_relative_features):\n",
        "    relative_feature_lists[i].append(np.nansum(np.array(relative_features[i])))\n",
        "  \n",
        "for i in range(num_absolute_features):\n",
        "  df_stations[new_absolute_names[i]] = absolute_feature_lists[i]\n",
        "for i in range(num_relative_features):\n",
        "  df_stations[new_relative_names[i]] = relative_feature_lists[i]"
      ],
      "execution_count": null,
      "outputs": [
        {
          "output_type": "display_data",
          "data": {
            "application/vnd.jupyter.widget-view+json": {
              "model_id": "859e581dd93d4ebea9046dc9a467c54a",
              "version_minor": 0,
              "version_major": 2
            },
            "text/plain": [
              "HBox(children=(FloatProgress(value=0.0, max=177.0), HTML(value='')))"
            ]
          },
          "metadata": {
            "tags": []
          }
        },
        {
          "output_type": "stream",
          "text": [
            "\n"
          ],
          "name": "stdout"
        }
      ]
    },
    {
      "cell_type": "code",
      "metadata": {
        "id": "RyKV8hZF6cIw",
        "colab": {
          "base_uri": "https://localhost:8080/"
        },
        "outputId": "594188e7-caf8-4c9d-ce03-539b5d287fd5"
      },
      "source": [
        "print(df_stations.iloc[0])"
      ],
      "execution_count": null,
      "outputs": [
        {
          "output_type": "stream",
          "text": [
            "Station                                                                 AUI-10372\n",
            "Address                         2316 W Martin Luther King Jr Blvd, Los Angeles...\n",
            "lat                                                                       34.0107\n",
            "lon                                                                      -118.319\n",
            "zipcode                                                                     90008\n",
            "                                                      ...                        \n",
            "commute_time_1_km                                                         35.7496\n",
            "median_household_income_1_km                                              48473.6\n",
            "average_household_size_1_km                                               2.78012\n",
            "population_density_1_km                                                   13514.8\n",
            "median_house_value_1_km                                                    488011\n",
            "Name: 0, Length: 77, dtype: object\n"
          ],
          "name": "stdout"
        }
      ]
    },
    {
      "cell_type": "markdown",
      "metadata": {
        "id": "7kfiWWG8HZGi"
      },
      "source": [
        "## Check if Conversion Worked Properly"
      ]
    },
    {
      "cell_type": "code",
      "metadata": {
        "id": "YahBCYqhHdcx"
      },
      "source": [
        "import numpy as np"
      ],
      "execution_count": null,
      "outputs": []
    },
    {
      "cell_type": "code",
      "metadata": {
        "id": "1Juuddi9H9v1"
      },
      "source": [
        "def math_checker(sz, feature):\n",
        "  rand_ind = np.random.randint(178, size=sz)\n",
        "  for idx in rand_ind:\n",
        "    print(\"Now testing index \", idx)\n",
        "    for tuples in df_stations['tract_hits'][idx]:\n",
        "      print(\"\\tcensus tract: \", tuples[0])\n",
        "      print(\"\\t\\ttract overlap: \", tuples[1])\n",
        "      print(\"\\t\\tcircle overlap: \", tuples[2])"
      ],
      "execution_count": null,
      "outputs": []
    },
    {
      "cell_type": "code",
      "metadata": {
        "id": "QZ1z2TQAJuCG",
        "colab": {
          "base_uri": "https://localhost:8080/"
        },
        "outputId": "d1992a2b-b8e9-44ff-a93e-9cd5265e2774"
      },
      "source": [
        "math_checker(6, 0)"
      ],
      "execution_count": null,
      "outputs": [
        {
          "output_type": "stream",
          "text": [
            "Now testing index  173\n",
            "\tcensus tract:  6037125200.0\n",
            "\t\ttract overlap:  0.1567369665395423\n",
            "\t\tcircle overlap:  0.06489512193870381\n",
            "\tcensus tract:  6037125310.0\n",
            "\t\ttract overlap:  0.03484756145064455\n",
            "\t\tcircle overlap:  0.011700453155539291\n",
            "\tcensus tract:  6037125320.0\n",
            "\t\ttract overlap:  0.8035604940594363\n",
            "\t\tcircle overlap:  0.16259436690371018\n",
            "\tcensus tract:  6037125401.0\n",
            "\t\ttract overlap:  1.0\n",
            "\t\tcircle overlap:  0.12687875879113852\n",
            "\tcensus tract:  6037125402.0\n",
            "\t\ttract overlap:  1.0\n",
            "\t\tcircle overlap:  0.22102369167655228\n",
            "\tcensus tract:  6037125501.0\n",
            "\t\ttract overlap:  0.9966151417166174\n",
            "\t\tcircle overlap:  0.1474900026997755\n",
            "\tcensus tract:  6037125502.0\n",
            "\t\ttract overlap:  0.9299186247289639\n",
            "\t\tcircle overlap:  0.1560648065810027\n",
            "\tcensus tract:  6037125600.0\n",
            "\t\ttract overlap:  0.06540411229529008\n",
            "\t\tcircle overlap:  0.021298520285435354\n",
            "\tcensus tract:  6037143100.0\n",
            "\t\ttract overlap:  0.01157632262205033\n",
            "\t\tcircle overlap:  0.006579570411134845\n",
            "\tcensus tract:  6037143200.0\n",
            "\t\ttract overlap:  0.1689264473598854\n",
            "\t\tcircle overlap:  0.05157110582180201\n",
            "\tcensus tract:  6037143300.0\n",
            "\t\ttract overlap:  0.055211523541549304\n",
            "\t\tcircle overlap:  0.02915313365885574\n",
            "Now testing index  40\n",
            "\tcensus tract:  6037197600.0\n",
            "\t\ttract overlap:  0.25551139474369966\n",
            "\t\tcircle overlap:  0.03195148908902251\n",
            "\tcensus tract:  6037197700.0\n",
            "\t\ttract overlap:  0.7967705940481888\n",
            "\t\tcircle overlap:  0.17814458516002835\n",
            "\tcensus tract:  6037206010.0\n",
            "\t\ttract overlap:  0.3151389893872969\n",
            "\t\tcircle overlap:  0.14451266134747945\n",
            "\tcensus tract:  6037206020.0\n",
            "\t\ttract overlap:  0.32187975758995063\n",
            "\t\tcircle overlap:  0.08972117283785053\n",
            "\tcensus tract:  6037207101.0\n",
            "\t\ttract overlap:  1.0\n",
            "\t\tcircle overlap:  0.09421557850377467\n",
            "\tcensus tract:  6037207102.0\n",
            "\t\ttract overlap:  0.9921489835837437\n",
            "\t\tcircle overlap:  0.13147193913111616\n",
            "\tcensus tract:  6037207103.0\n",
            "\t\ttract overlap:  1.0\n",
            "\t\tcircle overlap:  0.10339520063396061\n",
            "\tcensus tract:  6037207400.0\n",
            "\t\ttract overlap:  0.45369321091069226\n",
            "\t\tcircle overlap:  0.12660268182186293\n",
            "\tcensus tract:  6037208000.0\n",
            "\t\ttract overlap:  0.08630332580808771\n",
            "\t\tcircle overlap:  0.026572095226957727\n",
            "\tcensus tract:  6037980010.0\n",
            "\t\ttract overlap:  0.060832995260150034\n",
            "\t\tcircle overlap:  0.07445804963005992\n",
            "Now testing index  32\n",
            "\tcensus tract:  6037221601.0\n",
            "\t\ttract overlap:  0.3656327315349513\n",
            "\t\tcircle overlap:  0.043131277531017975\n",
            "\tcensus tract:  6037221710.0\n",
            "\t\ttract overlap:  0.4254934222181698\n",
            "\t\tcircle overlap:  0.04462054462648667\n",
            "\tcensus tract:  6037221810.0\n",
            "\t\ttract overlap:  1.0\n",
            "\t\tcircle overlap:  0.09696930957665184\n",
            "\tcensus tract:  6037221820.0\n",
            "\t\ttract overlap:  1.0\n",
            "\t\tcircle overlap:  0.06522935159266495\n",
            "\tcensus tract:  6037221900.0\n",
            "\t\ttract overlap:  1.0\n",
            "\t\tcircle overlap:  0.13154773830534933\n",
            "\tcensus tract:  6037222100.0\n",
            "\t\ttract overlap:  0.49882103997013927\n",
            "\t\tcircle overlap:  0.07581402140767753\n",
            "\tcensus tract:  6037222200.0\n",
            "\t\ttract overlap:  0.3767313128869821\n",
            "\t\tcircle overlap:  0.05797064849600976\n",
            "\tcensus tract:  6037222500.0\n",
            "\t\ttract overlap:  0.11100426637379936\n",
            "\t\tcircle overlap:  0.023164635626409982\n",
            "\tcensus tract:  6037222600.0\n",
            "\t\ttract overlap:  0.9389772403099176\n",
            "\t\tcircle overlap:  0.19472649132373973\n",
            "\tcensus tract:  6037222700.0\n",
            "\t\ttract overlap:  0.6704753055093868\n",
            "\t\tcircle overlap:  0.17589471118960254\n",
            "\tcensus tract:  6037224410.0\n",
            "\t\ttract overlap:  0.015652360844264412\n",
            "\t\tcircle overlap:  0.002240947081516976\n",
            "\tcensus tract:  6037224700.0\n",
            "\t\ttract overlap:  0.34936918499255376\n",
            "\t\tcircle overlap:  0.07051168815345642\n",
            "\tcensus tract:  6037231210.0\n",
            "\t\ttract overlap:  0.0024899303969239048\n",
            "\t\tcircle overlap:  0.00025505438928476523\n",
            "\tcensus tract:  6037231220.0\n",
            "\t\ttract overlap:  0.0633132278803391\n",
            "\t\tcircle overlap:  0.0194420923993425\n",
            "Now testing index  86\n",
            "\tcensus tract:  6037214501.0\n",
            "\t\ttract overlap:  0.03854915496886698\n",
            "\t\tcircle overlap:  0.009229388577418849\n",
            "\tcensus tract:  6037214700.0\n",
            "\t\ttract overlap:  0.21976262956089337\n",
            "\t\tcircle overlap:  0.04154449450922295\n",
            "\tcensus tract:  6037215101.0\n",
            "\t\ttract overlap:  0.4463191360168144\n",
            "\t\tcircle overlap:  0.050821085324881804\n",
            "\tcensus tract:  6037216200.0\n",
            "\t\ttract overlap:  0.19958015504698562\n",
            "\t\tcircle overlap:  0.06141104894245498\n",
            "\tcensus tract:  6037216300.0\n",
            "\t\ttract overlap:  0.8733925433530476\n",
            "\t\tcircle overlap:  0.3549416145260449\n",
            "\tcensus tract:  6037216700.0\n",
            "\t\ttract overlap:  0.08705095599543823\n",
            "\t\tcircle overlap:  0.02155298733551972\n",
            "\tcensus tract:  6037216800.0\n",
            "\t\ttract overlap:  0.6351783445024893\n",
            "\t\tcircle overlap:  0.1498737650885341\n",
            "\tcensus tract:  6037216900.0\n",
            "\t\ttract overlap:  0.6353390302826535\n",
            "\t\tcircle overlap:  0.22212996231845789\n",
            "\tcensus tract:  6037217100.0\n",
            "\t\ttract overlap:  0.3101465477725323\n",
            "\t\tcircle overlap:  0.08903933957367592\n",
            "Now testing index  135\n",
            "\tcensus tract:  6037143100.0\n",
            "\t\ttract overlap:  0.00014071910776104052\n",
            "\t\tcircle overlap:  8.000405106410168e-05\n",
            "\tcensus tract:  6037143604.0\n",
            "\t\ttract overlap:  0.5516560238181042\n",
            "\t\tcircle overlap:  0.098961093418967\n",
            "\tcensus tract:  6037143700.0\n",
            "\t\ttract overlap:  0.5473178760269596\n",
            "\t\tcircle overlap:  0.5917682017635393\n",
            "\tcensus tract:  6037143800.0\n",
            "\t\ttract overlap:  0.1134024927816687\n",
            "\t\tcircle overlap:  0.09423935892025362\n",
            "\tcensus tract:  6037194102.0\n",
            "\t\ttract overlap:  0.11427772798081165\n",
            "\t\tcircle overlap:  0.12755126166597436\n",
            "\tcensus tract:  6037320000.0\n",
            "\t\ttract overlap:  0.22144619628111795\n",
            "\t\tcircle overlap:  0.08792049142512114\n",
            "Now testing index  116\n",
            "\tcensus tract:  6037123902.0\n",
            "\t\ttract overlap:  0.16670247865173343\n",
            "\t\tcircle overlap:  0.035219255002211146\n",
            "\tcensus tract:  6037124102.0\n",
            "\t\ttract overlap:  0.9766266515419113\n",
            "\t\tcircle overlap:  0.20212930019770944\n",
            "\tcensus tract:  6037124105.0\n",
            "\t\ttract overlap:  0.21300225242817866\n",
            "\t\tcircle overlap:  0.02204169039234467\n",
            "\tcensus tract:  6037124201.0\n",
            "\t\ttract overlap:  0.0496134936190176\n",
            "\t\tcircle overlap:  0.015387496819307851\n",
            "\tcensus tract:  6037124203.0\n",
            "\t\ttract overlap:  0.8518390933706598\n",
            "\t\tcircle overlap:  0.08813844604667352\n",
            "\tcensus tract:  6037124204.0\n",
            "\t\ttract overlap:  1.0\n",
            "\t\tcircle overlap:  0.10335050182916199\n",
            "\tcensus tract:  6037124300.0\n",
            "\t\ttract overlap:  0.04268919305551671\n",
            "\t\tcircle overlap:  0.012124699086419468\n",
            "\tcensus tract:  6037125100.0\n",
            "\t\ttract overlap:  0.09874578688481077\n",
            "\t\tcircle overlap:  0.04087579092432869\n",
            "\tcensus tract:  6037125200.0\n",
            "\t\ttract overlap:  0.5840687943057394\n",
            "\t\tcircle overlap:  0.2417938826275942\n",
            "\tcensus tract:  6037125310.0\n",
            "\t\ttract overlap:  0.35621570430808236\n",
            "\t\tcircle overlap:  0.11958701945288812\n",
            "\tcensus tract:  6037125320.0\n",
            "\t\ttract overlap:  0.4539613981446438\n",
            "\t\tcircle overlap:  0.0918430998230517\n",
            "\tcensus tract:  6037125401.0\n",
            "\t\ttract overlap:  0.209126254905033\n",
            "\t\tcircle overlap:  0.02653005630255263\n"
          ],
          "name": "stdout"
        }
      ]
    },
    {
      "cell_type": "markdown",
      "metadata": {
        "id": "OfkPMVrPvCof"
      },
      "source": [
        "## Convert Zipcode Hits to Features\n"
      ]
    },
    {
      "cell_type": "code",
      "metadata": {
        "id": "pBfblkw6lf9s"
      },
      "source": [
        "ev_cars_url = 'https://data.ca.gov/dataset/15179472-adeb-4df6-920a-20640d02b08c/resource/d304108a-06c1-462f-a144-981dd0109900/download/vehicle-fuel-type-count-by-zip-code.csv'\n",
        "\n",
        "df_cars_raw = pd.read_csv(ev_cars_url, low_memory=False)\n",
        "\n",
        "ev_types = ['Battery Electric', 'Plug-in Hybrid']\n",
        "df_cars_almost = df_cars_raw[df_cars_raw.Fuel.isin(ev_types)]\n",
        "df_cars = df_cars_almost.groupby('Zip Code')['Vehicles'].sum().drop(labels=['OOS', 'Other']).reset_index(name='Vehicles')"
      ],
      "execution_count": null,
      "outputs": []
    },
    {
      "cell_type": "code",
      "metadata": {
        "id": "9Nf8upsMqRy8",
        "colab": {
          "base_uri": "https://localhost:8080/"
        },
        "outputId": "5f7d52b4-6899-424f-cb2a-1ae5a85e8e33"
      },
      "source": [
        "print(df_cars.isna().sum())"
      ],
      "execution_count": null,
      "outputs": [
        {
          "output_type": "stream",
          "text": [
            "Zip Code    0\n",
            "Vehicles    0\n",
            "dtype: int64\n"
          ],
          "name": "stdout"
        }
      ]
    },
    {
      "cell_type": "code",
      "metadata": {
        "id": "78zdJxSEj9ur",
        "colab": {
          "base_uri": "https://localhost:8080/",
          "referenced_widgets": [
            "9eafc68e700144f482547a4bc6d73060",
            "0f86f65bea9e4504b379e651b5542f9d",
            "6433fe2568e64a2eae263546b97eaf8d",
            "d6cc79014d4f40b6a7f8f01b58a13827",
            "3be9b7d88f06421fb3967a19f4f1921e",
            "1d2396d5ebdf43a1af9191648b17da93",
            "e32a585dff6f4155991f0efedff5df81",
            "a5c3d654e215420391ce3e5941449258"
          ]
        },
        "outputId": "c9338a9e-d0a9-4d7d-fac9-36710ac8de0a"
      },
      "source": [
        "df_cars['Zip Code'] = [int(x) for x in df_cars['Zip Code']]\n",
        "zips_List = np.array(df_cars['Zip Code'])\n",
        "ev_car_count = []\n",
        "\n",
        "for index, row in tqdm(df_stations.iterrows(), total=df_stations.shape[0]):\n",
        "  zips_hits = pd.Series(row['zip_hits'])\n",
        "  evc = []\n",
        "  for ind, val in zips_hits.iteritems():\n",
        "    f_result = np.where(zips_List == val[0])\n",
        "    found = True\n",
        "    try:\n",
        "      f_idx = f_result[0][0]\n",
        "    except:\n",
        "      found = False\n",
        "    i = 0\n",
        "    while (i < val[1]) and found:\n",
        "      evc.append(val[1] * df_cars['Vehicles'][f_idx])\n",
        "      i += 1\n",
        "  ev_car_count.append(np.nansum(np.array(evc)))\n",
        "df_stations['ev_car_count_' + str(radius_km) + '_km'] = ev_car_count "
      ],
      "execution_count": null,
      "outputs": [
        {
          "output_type": "display_data",
          "data": {
            "application/vnd.jupyter.widget-view+json": {
              "model_id": "9eafc68e700144f482547a4bc6d73060",
              "version_minor": 0,
              "version_major": 2
            },
            "text/plain": [
              "HBox(children=(FloatProgress(value=0.0, max=177.0), HTML(value='')))"
            ]
          },
          "metadata": {
            "tags": []
          }
        },
        {
          "output_type": "stream",
          "text": [
            "\n"
          ],
          "name": "stdout"
        }
      ]
    },
    {
      "cell_type": "markdown",
      "metadata": {
        "id": "FsDjxqUSpzP2"
      },
      "source": [
        "## Add Labels and Download"
      ]
    },
    {
      "cell_type": "code",
      "metadata": {
        "id": "L5v5FMlqq_CV"
      },
      "source": [
        "labels_url = 'https://raw.githubusercontent.com/amberguo/ev-charger/main/Flo_Parks_Utilization_Report_addresses.csv?raw=true'"
      ],
      "execution_count": null,
      "outputs": []
    },
    {
      "cell_type": "code",
      "metadata": {
        "id": "FFG0SQ0UrGTe",
        "colab": {
          "base_uri": "https://localhost:8080/"
        },
        "outputId": "4e3b0e5f-c338-4f68-da29-cd111e109f78"
      },
      "source": [
        "labels_raw = pd.read_csv(labels_url, encoding = \"ISO-8859-1\")\n",
        "\n",
        "labels_cols = ['Station', 'Total Sessions', 'Total Connection Time', \n",
        "               'Total Amount', 'Total kWh']\n",
        "\n",
        "features = df_stations.copy()\n",
        "labels = labels_raw[labels_cols]\n",
        "\n",
        "# clean up station id\n",
        "labels['Station'] = labels['Station'].str.split(\"\\\"\").str[1]\n",
        "labels['total_sessions'] = labels['Total Sessions']\n",
        "labels['total_connection_time'] = labels['Total Connection Time']\n",
        "labels['total_amount'] = labels['Total Amount']\n",
        "labels['total_kwh'] = labels['Total kWh']\n",
        "\n",
        "cols_to_drop = ['Total Sessions', 'Total Connection Time', 'Total Amount', 'Total kWh']\n",
        "labels.drop(columns=cols_to_drop, inplace=True)\n"
      ],
      "execution_count": null,
      "outputs": [
        {
          "output_type": "stream",
          "text": [
            "SettingWithCopyWarning: \n",
            "A value is trying to be set on a copy of a slice from a DataFrame.\n",
            "Try using .loc[row_indexer,col_indexer] = value instead\n",
            "\n",
            "See the caveats in the documentation: https://pandas.pydata.org/pandas-docs/stable/user_guide/indexing.html#returning-a-view-versus-a-copy\n",
            "SettingWithCopyWarning: \n",
            "A value is trying to be set on a copy of a slice from a DataFrame.\n",
            "Try using .loc[row_indexer,col_indexer] = value instead\n",
            "\n",
            "See the caveats in the documentation: https://pandas.pydata.org/pandas-docs/stable/user_guide/indexing.html#returning-a-view-versus-a-copy\n",
            "SettingWithCopyWarning: \n",
            "A value is trying to be set on a copy of a slice from a DataFrame.\n",
            "Try using .loc[row_indexer,col_indexer] = value instead\n",
            "\n",
            "See the caveats in the documentation: https://pandas.pydata.org/pandas-docs/stable/user_guide/indexing.html#returning-a-view-versus-a-copy\n"
          ],
          "name": "stderr"
        }
      ]
    },
    {
      "cell_type": "code",
      "metadata": {
        "id": "M4vhVMXBrX8u"
      },
      "source": [
        "df = pd.concat([features, labels], axis = 1)\n",
        "cols_to_drop = ['polygon', 'tract_hits', 'zip_hits']\n",
        "df.drop(columns=cols_to_drop, inplace=True)"
      ],
      "execution_count": null,
      "outputs": []
    },
    {
      "cell_type": "code",
      "metadata": {
        "id": "Qa2pg6F8rdMx",
        "colab": {
          "base_uri": "https://localhost:8080/"
        },
        "outputId": "608fd671-55c2-4222-f09b-829d4ca7d276"
      },
      "source": [
        "from google.colab import files\n",
        "df.to_csv('stations_with_geoanalyzed_features_and_outcomes_1_km.csv') \n",
        "files.download('stations_with_geoanalyzed_features_and_outcomes_1_km.csv')"
      ],
      "execution_count": null,
      "outputs": [
        {
          "output_type": "display_data",
          "data": {
            "application/javascript": [
              "\n",
              "    async function download(id, filename, size) {\n",
              "      if (!google.colab.kernel.accessAllowed) {\n",
              "        return;\n",
              "      }\n",
              "      const div = document.createElement('div');\n",
              "      const label = document.createElement('label');\n",
              "      label.textContent = `Downloading \"${filename}\": `;\n",
              "      div.appendChild(label);\n",
              "      const progress = document.createElement('progress');\n",
              "      progress.max = size;\n",
              "      div.appendChild(progress);\n",
              "      document.body.appendChild(div);\n",
              "\n",
              "      const buffers = [];\n",
              "      let downloaded = 0;\n",
              "\n",
              "      const channel = await google.colab.kernel.comms.open(id);\n",
              "      // Send a message to notify the kernel that we're ready.\n",
              "      channel.send({})\n",
              "\n",
              "      for await (const message of channel.messages) {\n",
              "        // Send a message to notify the kernel that we're ready.\n",
              "        channel.send({})\n",
              "        if (message.buffers) {\n",
              "          for (const buffer of message.buffers) {\n",
              "            buffers.push(buffer);\n",
              "            downloaded += buffer.byteLength;\n",
              "            progress.value = downloaded;\n",
              "          }\n",
              "        }\n",
              "      }\n",
              "      const blob = new Blob(buffers, {type: 'application/binary'});\n",
              "      const a = document.createElement('a');\n",
              "      a.href = window.URL.createObjectURL(blob);\n",
              "      a.download = filename;\n",
              "      div.appendChild(a);\n",
              "      a.click();\n",
              "      div.remove();\n",
              "    }\n",
              "  "
            ],
            "text/plain": [
              "<IPython.core.display.Javascript object>"
            ]
          },
          "metadata": {
            "tags": []
          }
        },
        {
          "output_type": "display_data",
          "data": {
            "application/javascript": [
              "download(\"download_2b627fdc-56c2-4ec4-83c8-20f3ba978a56\", \"stations_with_geoanalyzed_features_and_outcomes_1_km.csv\", 246730)"
            ],
            "text/plain": [
              "<IPython.core.display.Javascript object>"
            ]
          },
          "metadata": {
            "tags": []
          }
        }
      ]
    }
  ]
}